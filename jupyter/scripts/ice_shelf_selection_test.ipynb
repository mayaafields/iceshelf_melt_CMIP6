{
 "cells": [
  {
   "cell_type": "markdown",
   "id": "afd9d267",
   "metadata": {},
   "source": []
  },
  {
   "cell_type": "code",
   "execution_count": 1,
   "id": "c412f948",
   "metadata": {},
   "outputs": [],
   "source": [
    "import numpy as np\n",
    "import matplotlib.pyplot as plt\n",
    "\n",
    "%matplotlib inline\n",
    "\n",
    "import shapefile\n",
    "import pyproj\n",
    "from matplotlib.path import Path"
   ]
  },
  {
   "cell_type": "code",
   "execution_count": 2,
   "id": "8333386f",
   "metadata": {},
   "outputs": [],
   "source": [
    "#! /usr/bin/env python3\n",
    "\n",
    "# data libraries\n",
    "import sys\n",
    "import os\n",
    "import datetime as dt  # Python standard library datetime  module\n",
    "import numpy as np\n",
    "np.set_printoptions(threshold=sys.maxsize)\n",
    "from netCDF4 import Dataset,num2date  # http://code.google.com/p/netcdf4-python/\n",
    "import pandas as pd\n",
    "import geopandas as gpd\n",
    "from pyproj import Proj, transform\n",
    "\n",
    "# plotting libraries\n",
    "import matplotlib.pyplot as plt\n",
    "from scipy.stats import linregress\n",
    "import matplotlib.style as style\n",
    "from matplotlib import cm\n",
    "import cartopy.crs as ccrs\n",
    "import cartopy.feature as cfeature\n",
    "from cartopy.util import add_cyclic_point \n",
    "import cartopy.mpl.ticker as cticker\n",
    "import glob\n"
   ]
  },
  {
   "cell_type": "code",
   "execution_count": 3,
   "id": "21ce18f2",
   "metadata": {},
   "outputs": [],
   "source": [
    "def getPolyCoords(row, geom, coord_type):\n",
    "    \"\"\"\n",
    "    Returns the coordinates ('x|y') of edges/vertices of a Polygon/others\n",
    "    Args:\n",
    "    - row: the row object from a geodataframe; i.e.   df.loc[1]\n",
    "    - geom: the name of \"geometry\" column, usually \"geometry\"\n",
    "    - coord_type: 'x', or 'y'\n",
    "    ...\n",
    "    Valid geometrie types 'Polygon', 'Point', 'LineString', 'MultiLineString', 'MultiPolygon'\n",
    "    \"\"\"\n",
    "\n",
    "    # Parse the geometries and grab the coordinate\n",
    "    geometry = row[geom]\n",
    "    #print(geometry.type)\n",
    "\n",
    "    if geometry.type=='Polygon':\n",
    "        if coord_type == 'x':\n",
    "            # Get the x coordinates of the exterior\n",
    "            # Interior is more complex: xxx.interiors[0].coords.xy[0]\n",
    "            return list( geometry.exterior.coords.xy[0] )\n",
    "        elif coord_type == 'y':\n",
    "            # Get the y coordinates of the exterior\n",
    "            return list( geometry.exterior.coords.xy[1] )\n",
    "\n",
    "    if geometry.type in ['Point', 'LineString']:\n",
    "        if coord_type == 'x':\n",
    "            return list( geometry.xy[0] )\n",
    "        elif coord_type == 'y':\n",
    "            return list( geometry.xy[1] )\n",
    "\n",
    "    if geometry.type=='MultiLineString':\n",
    "        all_xy = []\n",
    "        # updated code, using .geoms\n",
    "        for ea in geometry.geoms:\n",
    "            if coord_type == 'x':\n",
    "                all_xy.append(list( ea.xy[0] ))\n",
    "            elif coord_type == 'y':\n",
    "                all_xy.append(list( ea.xy[1] ))\n",
    "        return all_xy\n",
    "\n",
    "    if geometry.type=='MultiPolygon':\n",
    "        all_xy = []\n",
    "        for ea in geometry.geoms:\n",
    "            if coord_type == 'x':\n",
    "                all_xy.append(list( ea.exterior.coords.xy[0] ))\n",
    "            elif coord_type == 'y':\n",
    "                all_xy.append(list( ea.exterior.coords.xy[1] ))\n",
    "        return all_xy\n",
    "\n",
    "    else:\n",
    "        # Finally, return empty list for unknown geometries\n",
    "        return []"
   ]
  },
  {
   "cell_type": "code",
   "execution_count": 4,
   "id": "6e274c39",
   "metadata": {},
   "outputs": [],
   "source": [
    "shelves = list()\n",
    "inds = list()"
   ]
  },
  {
   "cell_type": "code",
   "execution_count": 5,
   "id": "a9cda64d",
   "metadata": {},
   "outputs": [],
   "source": [
    "def create_shelf_path(path):\n",
    "\n",
    "    shelf = gpd.read_file(path) \n",
    "    shelf.crs = \"EPSG:3031\"\n",
    "    shelf = shelf.to_crs(epsg=4326)\n",
    "\n",
    "    shelf_lon = getPolyCoords(shelf.loc[0], 'geometry', 'x')\n",
    "    shelf_lat = getPolyCoords(shelf.loc[0], 'geometry', 'y')\n",
    "\n",
    "    shelf_list = np.vstack([shelf_lat,shelf_lon]).T\n",
    "    shelf_path = Path(shelf_list)\n",
    "\n",
    "    return shelf_lon,shelf_lat,shelf_path"
   ]
  },
  {
   "cell_type": "code",
   "execution_count": 6,
   "id": "dbbae8d5",
   "metadata": {},
   "outputs": [],
   "source": [
    "def shelf_lat_lon(path):\n",
    "    \n",
    "    #Reading in Datafiles\n",
    "    fname = path\n",
    "    datain = Dataset(fname, 'r')\n",
    "    \n",
    "    head_tail = os.path.split(path) #makes the path a variable\n",
    "    mystring = str(head_tail[1]) #turns the variable into a string\n",
    "    x = mystring.split(\".\", 5)#parsing the model name by periods\n",
    "   \n",
    "    #Creating Variables\n",
    "    lat = datain.variables['latitude'][:] #latitude\n",
    "    lon = datain.variables['longitude'][:] #longitude\n",
    "    \n",
    "    shelf_lat_model, shelf_lon_model = np.meshgrid(lat,lon)\n",
    "    \n",
    "    return shelf_lat_model,shelf_lon_model,x"
   ]
  },
  {
   "cell_type": "code",
   "execution_count": 7,
   "id": "cf5c9d7a",
   "metadata": {},
   "outputs": [],
   "source": [
    "def shelf_indicies(shelf_path,shelf_lat_model,shelf_lon_model):\n",
    "    \n",
    "    inds = shelf_path.contains_points(np.vstack([shelf_lat_model.ravel(), shelf_lon_model.ravel()]).T)\n",
    "    \n",
    "    return inds\n",
    "    "
   ]
  },
  {
   "cell_type": "code",
   "execution_count": 8,
   "id": "2764ddb5",
   "metadata": {},
   "outputs": [
    {
     "name": "stdout",
     "output_type": "stream",
     "text": [
      "/raid01/mafields/tas/MODELS_filtered/ssp585/iceshelves/baudouin/monthly\n"
     ]
    }
   ],
   "source": [
    "shelf_paths = pd.read_csv('/raid01/mafields/tas/MODELS_filtered/ssp585/path_data/shape_files/shapefile_paths.csv')\n",
    "reanalysis_paths = pd.read_csv('/raid01/mafields/tas/MODELS_filtered/ssp585/path_data/reanalysis/reanalysis_monthly_paths.csv')\n",
    "monthly_paths = pd.read_csv('/raid01/mafields/tas/MODELS_filtered/ssp585/path_data/monthly/monthly_paths.csv')\n",
    "reanalysis_paths = reanalysis_paths.drop([3])\n",
    "monthly_paths = monthly_paths.drop([3])\n",
    "print(monthly_paths['Shelf Path'][4])"
   ]
  },
  {
   "cell_type": "code",
   "execution_count": 9,
   "id": "8d355e90",
   "metadata": {},
   "outputs": [],
   "source": [
    "def finding_indicies(path,path1):\n",
    "    shelf_name = list()\n",
    "    shelf_inds = list()\n",
    "    shelf_model_lons = list()\n",
    "    shelf_model_lats = list()\n",
    "    shelf_lon, shelf_lat, shelf_path = create_shelf_path(path)\n",
    "    \n",
    "    for file in glob.iglob(f'{path1}/*.nc'): #iterating through files in path specified\n",
    "        shelf_lat_model,shelf_lon_model,file_name = shelf_lat_lon(file)\n",
    "        shelf_model_lons.append(shelf_lon_model)\n",
    "        shelf_model_lats.append(shelf_lat_model)\n",
    "        inds = shelf_indicies(shelf_path,shelf_lat_model,shelf_lon_model)\n",
    "    \n",
    "    shelf_name.append(file_name[4])\n",
    "    shelf_inds.append(inds)\n",
    "        \n",
    "    return shelf_name,shelf_inds,shelf_lon,shelf_lat,shelf_model_lons,shelf_model_lats\n",
    "        "
   ]
  },
  {
   "cell_type": "code",
   "execution_count": 211,
   "id": "24358a48",
   "metadata": {},
   "outputs": [],
   "source": [
    "shelf_name,shelf_inds,lon,lat,lon_model,lat_model = finding_indicies(shelf_paths['Shelf Shape File Path'][47],monthly_paths['Shelf Path'][31])\n",
    "shelves.append(shelf_name)\n",
    "inds.append(shelf_inds)"
   ]
  },
  {
   "cell_type": "code",
   "execution_count": 212,
   "id": "184829ab",
   "metadata": {},
   "outputs": [
    {
     "name": "stdout",
     "output_type": "stream",
     "text": [
      "[['abbot'], ['amery'], ['atka'], ['baudouin'], ['borchgrevink'], ['bruntStancomb'], ['congerGlenzer'], ['cook'], ['cosgrove'], ['crosson'], ['dotson'], ['drygalski'], ['ekstrom'], ['filchner'], ['fimbul'], ['georgeVI'], ['getz'], ['holmes'], ['jelbart'], ['land'], ['larsenB'], ['larsenC'], ['larsenD'], ['lazarev'], ['mariner'], ['mertz'], ['moscowU'], ['nansen'], ['nickerson'], ['nivl'], ['princeH'], ['quar'], ['rennick'], ['riiser'], ['ronne'], ['ross'], ['ross'], ['shackleton'], ['stange'], ['sulzberger'], ['thwaites'], ['totten'], ['tucker'], ['venable'], ['vigrid'], ['west'], ['withrow'], ['pineIsland']]\n"
     ]
    }
   ],
   "source": [
    "print(shelves)"
   ]
  },
  {
   "cell_type": "code",
   "execution_count": 225,
   "id": "0a51b49e",
   "metadata": {},
   "outputs": [],
   "source": [
    "shelf_indicies = pd.DataFrame(list(zip(shelves,inds)),columns=['Shelf Names','Indicies'])\n",
    "os.makedirs('/raid01/mafields/tas/MODELS_filtered/ssp585/indicies', exist_ok=True)  \n",
    "shelf_indicies.to_csv('/raid01/mafields/tas/MODELS_filtered/ssp585/indicies/shelf_indicies.csv') "
   ]
  },
  {
   "cell_type": "code",
   "execution_count": null,
   "id": "d6ae4c9e",
   "metadata": {},
   "outputs": [],
   "source": []
  },
  {
   "cell_type": "code",
   "execution_count": null,
   "id": "f8b689fe",
   "metadata": {},
   "outputs": [],
   "source": []
  },
  {
   "cell_type": "code",
   "execution_count": null,
   "id": "417b8780",
   "metadata": {},
   "outputs": [],
   "source": []
  },
  {
   "cell_type": "code",
   "execution_count": null,
   "id": "84ddfa7c",
   "metadata": {},
   "outputs": [],
   "source": []
  },
  {
   "cell_type": "code",
   "execution_count": null,
   "id": "3ff4bc2d",
   "metadata": {},
   "outputs": [],
   "source": []
  },
  {
   "cell_type": "code",
   "execution_count": null,
   "id": "17c6540b",
   "metadata": {},
   "outputs": [],
   "source": []
  },
  {
   "cell_type": "code",
   "execution_count": null,
   "id": "560cf6f0",
   "metadata": {},
   "outputs": [],
   "source": []
  },
  {
   "cell_type": "code",
   "execution_count": null,
   "id": "5f65061d",
   "metadata": {},
   "outputs": [],
   "source": []
  }
 ],
 "metadata": {
  "kernelspec": {
   "display_name": "Python 3 (ipykernel)",
   "language": "python",
   "name": "python3"
  },
  "language_info": {
   "codemirror_mode": {
    "name": "ipython",
    "version": 3
   },
   "file_extension": ".py",
   "mimetype": "text/x-python",
   "name": "python",
   "nbconvert_exporter": "python",
   "pygments_lexer": "ipython3",
   "version": "3.10.6"
  }
 },
 "nbformat": 4,
 "nbformat_minor": 5
}
