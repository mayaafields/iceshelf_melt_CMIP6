{
 "cells": [
  {
   "cell_type": "code",
   "execution_count": 1,
   "id": "588d5a9b",
   "metadata": {},
   "outputs": [],
   "source": [
    "import numpy as np\n",
    "import matplotlib.pyplot as plt\n",
    "\n",
    "%matplotlib inline\n",
    "\n",
    "import shapefile\n",
    "import pyproj\n",
    "\n",
    "\n",
    "#! /usr/bin/env python3\n",
    "\n",
    "# data libraries\n",
    "import sys\n",
    "import os\n",
    "import datetime as dt  # Python standard library datetime  module\n",
    "import numpy as np\n",
    "np.set_printoptions(threshold=sys.maxsize)\n",
    "from netCDF4 import Dataset,num2date  # http://code.google.com/p/netcdf4-python/\n",
    "import pandas as pd\n",
    "import geopandas as gpd\n",
    "from pyproj import Proj, transform\n",
    "from matplotlib.path import Path\n",
    "\n",
    "# plotting libraries\n",
    "import matplotlib.pyplot as plt\n",
    "from scipy.stats import linregress\n",
    "import matplotlib.style as style\n",
    "from matplotlib import cm\n",
    "import cartopy.crs as ccrs\n",
    "import cartopy.feature as cfeature\n",
    "from cartopy.util import add_cyclic_point \n",
    "import cartopy.mpl.ticker as cticker\n",
    "import glob\n",
    "import pickle"
   ]
  },
  {
   "cell_type": "code",
   "execution_count": 2,
   "id": "e75db044",
   "metadata": {},
   "outputs": [],
   "source": [
    "def getPolyCoords(row, geom, coord_type):\n",
    "    \"\"\"\n",
    "    Returns the coordinates ('x|y') of edges/vertices of a Polygon/others\n",
    "    Args:\n",
    "    - row: the row object from a geodataframe; i.e.   df.loc[1]\n",
    "    - geom: the name of \"geometry\" column, usually \"geometry\"\n",
    "    - coord_type: 'x', or 'y'\n",
    "    ...\n",
    "    Valid geometrie types 'Polygon', 'Point', 'LineString', 'MultiLineString', 'MultiPolygon'\n",
    "    \"\"\"\n",
    "\n",
    "    # Parse the geometries and grab the coordinate\n",
    "    geometry = row[geom]\n",
    "    #print(geometry.type)\n",
    "\n",
    "    if geometry.type=='Polygon':\n",
    "        if coord_type == 'x':\n",
    "            # Get the x coordinates of the exterior\n",
    "            # Interior is more complex: xxx.interiors[0].coords.xy[0]\n",
    "            return list( geometry.exterior.coords.xy[0] )\n",
    "        elif coord_type == 'y':\n",
    "            # Get the y coordinates of the exterior\n",
    "            return list( geometry.exterior.coords.xy[1] )\n",
    "\n",
    "    if geometry.type in ['Point', 'LineString']:\n",
    "        if coord_type == 'x':\n",
    "            return list( geometry.xy[0] )\n",
    "        elif coord_type == 'y':\n",
    "            return list( geometry.xy[1] )\n",
    "\n",
    "    if geometry.type=='MultiLineString':\n",
    "        all_xy = []\n",
    "        # updated code, using .geoms\n",
    "        for ea in geometry.geoms:\n",
    "            if coord_type == 'x':\n",
    "                all_xy.append(list( ea.xy[0] ))\n",
    "            elif coord_type == 'y':\n",
    "                all_xy.append(list( ea.xy[1] ))\n",
    "        return all_xy\n",
    "\n",
    "    if geometry.type=='MultiPolygon':\n",
    "        all_xy = []\n",
    "        for ea in geometry.geoms:\n",
    "            if coord_type == 'x':\n",
    "                all_xy.append(list( ea.exterior.coords.xy[0] ))\n",
    "            elif coord_type == 'y':\n",
    "                all_xy.append(list( ea.exterior.coords.xy[1] ))\n",
    "        return all_xy\n",
    "\n",
    "    else:\n",
    "        # Finally, return empty list for unknown geometries\n",
    "        return []"
   ]
  },
  {
   "cell_type": "markdown",
   "id": "5b114bfb",
   "metadata": {},
   "source": [
    "### Code to plot the Shape File Boundary"
   ]
  },
  {
   "cell_type": "code",
   "execution_count": 3,
   "id": "16c3ff9a",
   "metadata": {},
   "outputs": [],
   "source": [
    "shelf = gpd.read_file('/raid01/mafields/tas/MODELS_filtered/ssp585/shape_files/Moscow University.shp') \n",
    "shelf.crs = \"EPSG:3031\"\n",
    "shelf = shelf.to_crs(epsg=4326)\n",
    "\n",
    "shelf_lon = getPolyCoords(shelf.loc[0], 'geometry', 'x')\n",
    "shelf_lat = getPolyCoords(shelf.loc[0], 'geometry', 'y')\n",
    "shelf_list = np.vstack([shelf_lat[0],shelf_lon[0]]).T\n",
    "shelf_path = Path(shelf_list)\n",
    "\n",
    "#plt.plot(shelf_lat,shelf_lon)"
   ]
  },
  {
   "cell_type": "code",
   "execution_count": 63,
   "id": "164fb157",
   "metadata": {},
   "outputs": [],
   "source": [
    "def cropping_function(path,path1):\n",
    "# Lists of data pulled from paths to create new csv of cropped data\n",
    "    fpath = list() # The path to location in my raid directory\n",
    "    model_names = list() # The model name pulled from the file name of the data \n",
    "    modeltemps = list() # The temperature of the shelf for each year from model\n",
    "    latitude = list()\n",
    "    longitude = list()\n",
    "    year = list()\n",
    "    month = list()\n",
    "    gridsize = list()\n",
    "    temp_crop = list()\n",
    "    newlat = list()\n",
    "    newlon = list()\n",
    "    spatial_avg = list()\n",
    "    \n",
    "    shelf = gpd.read_file(f'{path1}') \n",
    "    shelf.crs = \"EPSG:3031\"\n",
    "    shelf = shelf.to_crs(epsg=4326)\n",
    "\n",
    "    shelf_lon = getPolyCoords(shelf.loc[0], 'geometry', 'x')\n",
    "    \n",
    "    shelf_lon = np.array(shelf_lon)\n",
    "    #shelf_lon = shelf_lon - 360*((shelf_lon)-np.abs(shelf_lon))/(2*np.abs(shelf_lon)) #This line should only be used for Ross ICe Shelf\n",
    "    \n",
    "    shelf_lat = getPolyCoords(shelf.loc[0], 'geometry', 'y')\n",
    "    shelf_list = np.vstack([shelf_lat,shelf_lon]).T\n",
    "    #shelf_list = np.vstack([shelf_lat[0],shelf_lon[0]]).T\n",
    "    shelf_path = Path(shelf_list)\n",
    "    \n",
    "    for file in glob.iglob(f'{path}/*.nc'): #iterating through files in path specified\n",
    "        \n",
    "        #Reading in Datafiles\n",
    "        fpath.append(file)\n",
    "        fname = file\n",
    "        datain = Dataset(fname, 'r')\n",
    "        \n",
    "        ##Splitting The Path to label the models\n",
    "        head_tail = os.path.split(file) #makes the path a variable\n",
    "        mystring = str(head_tail[1]) #turns the variable into a string\n",
    "        x = mystring.split(\".\", 5)#parsing the model name by periods\n",
    "        model_names.append(x[1]) # the second section of string is the model name\n",
    "        print(model_names)\n",
    "        #Creating Variables\n",
    "        var = datain.variables['tas'] #2meter surface temperture\n",
    "        var = var[:,:,:] - 273.15 #converting the temperature from Kelvin to Celsius\n",
    "        modeltemps.append(var)\n",
    "        grid = var[1].size\n",
    "        gridsize.append(grid)\n",
    "        lat = datain.variables['latitude'][:] #latitude\n",
    "        latitude.append(lat)\n",
    "        lon = datain.variables['longitude'][:] #longitude\n",
    "        longitude.append(lon)\n",
    "        timevar = datain.variables['time'] #in days since 1850\n",
    "        dtime = num2date(timevar[:],timevar.units) # The next two lines make the time variable readable\n",
    "        ym = np.zeros((len(dtime),2), int)\n",
    "        \n",
    "        shelf_lon_model, shelf_lat_model = np.meshgrid(lon,lat)\n",
    "        inds = shelf_path.contains_points(np.vstack([shelf_lat_model.ravel(), shelf_lon_model.ravel()]).T)\n",
    "        \n",
    "        i = 0\n",
    "        \n",
    "        newvar = list()\n",
    "        var_spatial_avg = list()\n",
    "        for i in range(len(var)):\n",
    "            vartemp = var[i].reshape((1,len(inds)))\n",
    "            newvar.append(vartemp[0][inds])\n",
    "            var_avg = np.mean(vartemp[0][inds])\n",
    "            var_spatial_avg.append(var_avg)\n",
    "        \n",
    "        temp_crop.append(newvar)\n",
    "        spatial_avg.append(var_spatial_avg)\n",
    "        \n",
    "            \n",
    "        lat_temp = shelf_lat_model.ravel()[inds]\n",
    "        lon_temp = shelf_lon_model.ravel()[inds]\n",
    "        newlat.append(lat_temp)\n",
    "        newlon.append(lon_temp)\n",
    "        \n",
    "\n",
    "        ##Time Component\n",
    "        for i in range(len(dtime)): #Creating an aray of years from the time variable\n",
    "            ym[i,0] = dtime[i].year\n",
    "            ym[i,1] = dtime[i].month\n",
    "       \n",
    "        year.append(ym[:,0])\n",
    "        month.append(ym[:,1])\n",
    "    \n",
    "    df = pd.DataFrame(list(zip(fpath,model_names,gridsize,modeltemps,year,month,latitude,longitude,temp_crop,newlat,newlon,spatial_avg)),\n",
    "                      columns = ['file path', 'Model','gridsize','temp','year','month','original latitude','original longitude', 'cropped temp','cropped lat',\n",
    "                                 'cropped lon','temp spatial average'])\n",
    "    \n",
    "    #df.to_csv(f'{path}/cropped/monthly.models.cropped.abbot.csv') \n",
    "    \n",
    "    return df"
   ]
  },
  {
   "cell_type": "code",
   "execution_count": null,
   "id": "1bcaba56",
   "metadata": {},
   "outputs": [],
   "source": []
  },
  {
   "cell_type": "code",
   "execution_count": 5,
   "id": "849684ca",
   "metadata": {},
   "outputs": [
    {
     "name": "stdout",
     "output_type": "stream",
     "text": [
      "Empty DataFrame\n",
      "Columns: [file path, Model, gridsize, temp, year, month, original latitude, original longitude, cropped temp, cropped lat, cropped lon, temp spatial average]\n",
      "Index: []\n"
     ]
    }
   ],
   "source": [
    "rootdir = '/raid01/mafields/tas/MODELS_filtered/ssp585/iceshelves/amery'\n",
    "shapefile = '/raid01/mafields/tas/MODELS_filtered/ssp585/shape_files/Amery.shp'\n",
    "\n",
    "test = cropping_function(rootdir,shapefile)\n",
    "\n",
    "print(test)"
   ]
  },
  {
   "cell_type": "code",
   "execution_count": 6,
   "id": "1d4d9687",
   "metadata": {},
   "outputs": [],
   "source": [
    "def reanalysis_cropping_function(path,path1):\n",
    "# Lists of data pulled from paths to create new csv of cropped data\n",
    "    fpath = list() # The path to location in my raid directory\n",
    "    model_names = list() # The model name pulled from the file name of the data \n",
    "    modeltemps = list() # The temperature of the shelf for each year from model\n",
    "    latitude = list()\n",
    "    longitude = list()\n",
    "    year = list()\n",
    "    month = list()\n",
    "    gridsize = list()\n",
    "    temp_crop = list()\n",
    "    newlat = list()\n",
    "    newlon = list()\n",
    "    spatial_avg = list()\n",
    "    \n",
    "    shelf = gpd.read_file(f'{path1}') \n",
    "    shelf.crs = \"EPSG:3031\"\n",
    "    shelf = shelf.to_crs(epsg=4326)\n",
    "\n",
    "    shelf_lon = getPolyCoords(shelf.loc[0], 'geometry', 'x')\n",
    "    \n",
    "    shelf_lon = np.array(shelf_lon)\n",
    "    shelf_lon = shelf_lon - (360*((shelf_lon)-np.abs(shelf_lon))/(2*np.abs(shelf_lon))) #This line should only be used for Ross ICe Shelf\n",
    "    \n",
    "    shelf_lat = getPolyCoords(shelf.loc[0], 'geometry', 'y')\n",
    "    shelf_list = np.vstack([shelf_lat,shelf_lon]).T\n",
    "    #shelf_list = np.vstack([shelf_lat[0],shelf_lon[0]]).T\n",
    "    shelf_path = Path(shelf_list)\n",
    "\n",
    "    fname = path\n",
    "    fpath.append(fname)\n",
    "    datain = Dataset(fname, 'r')\n",
    "\n",
    "    ##Splitting The Path to label the models\n",
    "    head_tail = os.path.split(fname) #makes the path a variable\n",
    "    mystring = str(head_tail[1]) #turns the variable into a string\n",
    "    x = mystring.split(\".\", 5)#parsing the model name by periods\n",
    "    model_names.append(x[1]) # the second section of string is the model name\n",
    "    print(model_names)\n",
    "    #Creating Variables\n",
    "    var = datain.variables['t2m'] #2meter surface temperture\n",
    "    var = var[:,:,:] - 273.15 #converting the temperature from Kelvin to Celsius\n",
    "    modeltemps.append(var)\n",
    "    grid = var[1].size\n",
    "    gridsize.append(grid)\n",
    "    lat = datain.variables['latitude'][:] #latitude\n",
    "    latitude.append(lat)\n",
    "    lon = datain.variables['longitude'][:] #longitude\n",
    "    longitude.append(lon)\n",
    "    timevar = datain.variables['time'] #in days since 1850\n",
    "    dtime = num2date(timevar[:],timevar.units) # The next two lines make the time variable readable\n",
    "    ym = np.zeros((len(dtime),2), int)\n",
    "\n",
    "    shelf_lon_model, shelf_lat_model = np.meshgrid(lon,lat)\n",
    "    inds = shelf_path.contains_points(np.vstack([shelf_lat_model.ravel(), shelf_lon_model.ravel()]).T)\n",
    "\n",
    "    i = 0\n",
    "\n",
    "    newvar = list()\n",
    "    var_spatial_avg = list()\n",
    "    for i in range(len(var)):\n",
    "        vartemp = var[i].reshape((1,len(inds)))\n",
    "        newvar.append(vartemp[0][inds])\n",
    "        var_avg = np.mean(vartemp[0][inds])\n",
    "        var_spatial_avg.append(var_avg)\n",
    "\n",
    "    temp_crop.append(newvar)\n",
    "    spatial_avg.append(var_spatial_avg)\n",
    "\n",
    "\n",
    "    lat_temp = shelf_lat_model.ravel()[inds]\n",
    "    lon_temp = shelf_lon_model.ravel()[inds]\n",
    "    newlat.append(lat_temp)\n",
    "    newlon.append(lon_temp)\n",
    "\n",
    "\n",
    "    ##Time Component\n",
    "    for i in range(len(dtime)): #Creating an aray of years from the time variable\n",
    "        ym[i,0] = dtime[i].year\n",
    "        ym[i,1] = dtime[i].month\n",
    "\n",
    "    year.append(ym[:,0])\n",
    "    month.append(ym[:,1])\n",
    "\n",
    "    \n",
    "    df = pd.DataFrame(list(zip(fpath,model_names,gridsize,modeltemps,year,month,latitude,longitude,temp_crop,newlat,newlon,spatial_avg)),\n",
    "                      columns = ['file path', 'Model','gridsize','temp','year','month','original latitude','original longitude', 'cropped temp','cropped lat',\n",
    "                                 'cropped lon','temp spatial average'])\n",
    " \n",
    "    \n",
    "    return df"
   ]
  },
  {
   "cell_type": "code",
   "execution_count": 12,
   "id": "c3714c2d",
   "metadata": {},
   "outputs": [],
   "source": []
  },
  {
   "cell_type": "code",
   "execution_count": 7,
   "id": "080c2d07",
   "metadata": {},
   "outputs": [],
   "source": [
    "monthly_shelves = {}\n",
    "seasonal_shelves = {}\n",
    "yearly_shelves = {}"
   ]
  },
  {
   "cell_type": "code",
   "execution_count": 12,
   "id": "df7cfd05",
   "metadata": {},
   "outputs": [],
   "source": [
    "#with open('saved_dictionary_monthly.pkl', 'rb') as f:\n",
    " #   monthly_shelves = pickle.load(f)"
   ]
  },
  {
   "cell_type": "code",
   "execution_count": 13,
   "id": "accca575",
   "metadata": {},
   "outputs": [],
   "source": [
    "#with open('saved_dictionary_seasonal.pkl', 'rb') as f:\n",
    " #   seasonal_shelves = pickle.load(f)"
   ]
  },
  {
   "cell_type": "code",
   "execution_count": 14,
   "id": "27f8332a",
   "metadata": {},
   "outputs": [],
   "source": [
    "#with open('saved_dictionary_yearly.pkl', 'rb') as f:\n",
    " #   yearly_shelves = pickle.load(f)"
   ]
  },
  {
   "cell_type": "code",
   "execution_count": 8,
   "id": "457f1823",
   "metadata": {},
   "outputs": [],
   "source": [
    "def iceshelf_dictionary(rootdir,shapefile,shelf):\n",
    "    \n",
    "    for subdir, dirs, files in os.walk(rootdir):\n",
    "        path_list = list()\n",
    "        for d in dirs:\n",
    "            print(d)\n",
    "            path = os.path.join(subdir, d)\n",
    "            head_tail = os.path.split(path)\n",
    "            df = cropping_function(path,shapefile)\n",
    "            path_list.append(path)\n",
    "            \n",
    "            if head_tail[1] == 'seasonal' :\n",
    "                seasonal_shelves[shelf] = df\n",
    "                print('seasonal frame added')\n",
    "            elif head_tail[1] == 'yearly': \n",
    "                yearly_shelves[shelf] = df\n",
    "                print('yearly frame added')\n",
    "            elif head_tail[1] == 'monthly': \n",
    "                monthly_shelves[shelf] = df\n",
    "                print('monthly frame added')\n",
    "                \n",
    "    return path_list"
   ]
  },
  {
   "cell_type": "code",
   "execution_count": 182,
   "id": "5c3807c2",
   "metadata": {},
   "outputs": [
    {
     "data": {
      "text/plain": [
       "dict_keys(['Abbot', 'Amery', 'Atka', 'Baudouin', 'Borchgrevink', 'Brunt Stancomb', 'Conger Glenzer', 'Cook', 'Cosgrove', 'Crosson', 'Dotson', 'Drygalski', 'Ekstrom', 'Filchner', 'Fimbul', 'George VI', 'Getz', 'Holmes', 'Jelbart', 'Land', 'LarsenB', 'LarsenC', 'LarsenD', 'Lazarev', 'Mariner', 'Mertz', 'Moscow University', 'Nansen', 'Nickerson', 'Nivl', 'pine island', 'Prince Harald', 'Quar', 'Rennick', 'Riiser-Larsen', 'Ronne', 'Shackleton', 'Stange', 'Sulzberger', 'Thwaites', 'Totten', 'Venable', 'Vigrid', 'West', 'Withrow', 'Ross East', 'Ross West'])"
      ]
     },
     "execution_count": 182,
     "metadata": {},
     "output_type": "execute_result"
    }
   ],
   "source": [
    "seasonal_shelves.keys()"
   ]
  },
  {
   "cell_type": "code",
   "execution_count": 74,
   "id": "63fceee4",
   "metadata": {},
   "outputs": [
    {
     "data": {
      "text/plain": [
       "dict_keys(['Abbot', 'Amery', 'Atka', 'Baudouin', 'Borchgrevink', 'Conger Glenzer', 'Cook', 'Cosgrove', 'Crosson', 'Dotson', 'Drygalski', 'Ekstrom', 'Filchner', 'George VI', 'Getz', 'Holmes', 'Jelbart', 'Land', 'LarsenB', 'LarsenC', 'LarsenD', 'Lazarev', 'Mariner', 'Mertz', 'Moscow University', 'Nansen', 'Nickerson', 'Nivl', 'pine island', 'Prince Harald', 'Quar', 'Rennick', 'Riiser-Larsen', 'Ronne', 'Ross East', 'Ross West', 'Shackleton', 'Stange', 'Sulzberger', 'Thwaites', 'Totten', 'Venable', 'Vigrid', 'West', 'Withrow'])"
      ]
     },
     "execution_count": 74,
     "metadata": {},
     "output_type": "execute_result"
    }
   ],
   "source": [
    "yearly_shelves.keys()"
   ]
  },
  {
   "cell_type": "code",
   "execution_count": 72,
   "id": "b0c55c10",
   "metadata": {},
   "outputs": [
    {
     "data": {
      "text/plain": [
       "dict_keys(['Abbot', 'Amery', 'Atka', 'Baudouin', 'Borchgrevink', 'Brunt Stancomb', 'Conger Glenzer', 'Cook', 'Cosgrove', 'Crosson', 'Dotson', 'Drygalski', 'Ekstrom', 'Filchner', 'George VI', 'Getz', 'Holmes', 'Jelbart', 'Land', 'LarsenB', 'LarsenC', 'LarsenD', 'Lazarev', 'Mariner', 'Mertz', 'Moscow University', 'Nansen', 'Nickerson', 'Nivl', 'pine island', 'Prince Harald', 'Quar', 'Rennick', 'Riiser-Larsen', 'Ronne', 'Ross East', 'Ross West', 'Shackleton', 'Stange', 'Sulzberger', 'Thwaites', 'Totten', 'Venable', 'Vigrid', 'West', 'Withrow'])"
      ]
     },
     "execution_count": 72,
     "metadata": {},
     "output_type": "execute_result"
    }
   ],
   "source": [
    "monthly_shelves.keys()"
   ]
  },
  {
   "cell_type": "code",
   "execution_count": 73,
   "id": "2fe14fa3",
   "metadata": {},
   "outputs": [
    {
     "name": "stdout",
     "output_type": "stream",
     "text": [
      "monthly\n",
      "['E3SM-1-1']\n",
      "['E3SM-1-1', 'CAS-ESM2-0']\n",
      "['E3SM-1-1', 'CAS-ESM2-0', 'KIOST-ESM']\n",
      "['E3SM-1-1', 'CAS-ESM2-0', 'KIOST-ESM', 'E3SM-Project']\n",
      "['E3SM-1-1', 'CAS-ESM2-0', 'KIOST-ESM', 'E3SM-Project', 'CAMS-CSM1-0']\n",
      "['E3SM-1-1', 'CAS-ESM2-0', 'KIOST-ESM', 'E3SM-Project', 'CAMS-CSM1-0', 'MPI-ESM1-2-HR']\n",
      "['E3SM-1-1', 'CAS-ESM2-0', 'KIOST-ESM', 'E3SM-Project', 'CAMS-CSM1-0', 'MPI-ESM1-2-HR', 'INM-CM4-8']\n",
      "['E3SM-1-1', 'CAS-ESM2-0', 'KIOST-ESM', 'E3SM-Project', 'CAMS-CSM1-0', 'MPI-ESM1-2-HR', 'INM-CM4-8', 'INM-CM5-0']\n",
      "['E3SM-1-1', 'CAS-ESM2-0', 'KIOST-ESM', 'E3SM-Project', 'CAMS-CSM1-0', 'MPI-ESM1-2-HR', 'INM-CM4-8', 'INM-CM5-0', 'FGOALS-f3-L']\n",
      "['E3SM-1-1', 'CAS-ESM2-0', 'KIOST-ESM', 'E3SM-Project', 'CAMS-CSM1-0', 'MPI-ESM1-2-HR', 'INM-CM4-8', 'INM-CM5-0', 'FGOALS-f3-L', 'AWI-CM-1-1-MR']\n",
      "['E3SM-1-1', 'CAS-ESM2-0', 'KIOST-ESM', 'E3SM-Project', 'CAMS-CSM1-0', 'MPI-ESM1-2-HR', 'INM-CM4-8', 'INM-CM5-0', 'FGOALS-f3-L', 'AWI-CM-1-1-MR', 'TaiESM1']\n",
      "['E3SM-1-1', 'CAS-ESM2-0', 'KIOST-ESM', 'E3SM-Project', 'CAMS-CSM1-0', 'MPI-ESM1-2-HR', 'INM-CM4-8', 'INM-CM5-0', 'FGOALS-f3-L', 'AWI-CM-1-1-MR', 'TaiESM1', 'CMCC-CM2-SR5']\n",
      "['E3SM-1-1', 'CAS-ESM2-0', 'KIOST-ESM', 'E3SM-Project', 'CAMS-CSM1-0', 'MPI-ESM1-2-HR', 'INM-CM4-8', 'INM-CM5-0', 'FGOALS-f3-L', 'AWI-CM-1-1-MR', 'TaiESM1', 'CMCC-CM2-SR5', 'CMCC-ESM2']\n",
      "['E3SM-1-1', 'CAS-ESM2-0', 'KIOST-ESM', 'E3SM-Project', 'CAMS-CSM1-0', 'MPI-ESM1-2-HR', 'INM-CM4-8', 'INM-CM5-0', 'FGOALS-f3-L', 'AWI-CM-1-1-MR', 'TaiESM1', 'CMCC-CM2-SR5', 'CMCC-ESM2', 'IPSL-CM6A-LR']\n",
      "['E3SM-1-1', 'CAS-ESM2-0', 'KIOST-ESM', 'E3SM-Project', 'CAMS-CSM1-0', 'MPI-ESM1-2-HR', 'INM-CM4-8', 'INM-CM5-0', 'FGOALS-f3-L', 'AWI-CM-1-1-MR', 'TaiESM1', 'CMCC-CM2-SR5', 'CMCC-ESM2', 'IPSL-CM6A-LR', 'EC-Earth3']\n",
      "['E3SM-1-1', 'CAS-ESM2-0', 'KIOST-ESM', 'E3SM-Project', 'CAMS-CSM1-0', 'MPI-ESM1-2-HR', 'INM-CM4-8', 'INM-CM5-0', 'FGOALS-f3-L', 'AWI-CM-1-1-MR', 'TaiESM1', 'CMCC-CM2-SR5', 'CMCC-ESM2', 'IPSL-CM6A-LR', 'EC-Earth3', 'IITM-ESM']\n",
      "['E3SM-1-1', 'CAS-ESM2-0', 'KIOST-ESM', 'E3SM-Project', 'CAMS-CSM1-0', 'MPI-ESM1-2-HR', 'INM-CM4-8', 'INM-CM5-0', 'FGOALS-f3-L', 'AWI-CM-1-1-MR', 'TaiESM1', 'CMCC-CM2-SR5', 'CMCC-ESM2', 'IPSL-CM6A-LR', 'EC-Earth3', 'IITM-ESM', 'NorESM2-MM']\n",
      "['E3SM-1-1', 'CAS-ESM2-0', 'KIOST-ESM', 'E3SM-Project', 'CAMS-CSM1-0', 'MPI-ESM1-2-HR', 'INM-CM4-8', 'INM-CM5-0', 'FGOALS-f3-L', 'AWI-CM-1-1-MR', 'TaiESM1', 'CMCC-CM2-SR5', 'CMCC-ESM2', 'IPSL-CM6A-LR', 'EC-Earth3', 'IITM-ESM', 'NorESM2-MM', 'FGOALS-g3']\n",
      "['E3SM-1-1', 'CAS-ESM2-0', 'KIOST-ESM', 'E3SM-Project', 'CAMS-CSM1-0', 'MPI-ESM1-2-HR', 'INM-CM4-8', 'INM-CM5-0', 'FGOALS-f3-L', 'AWI-CM-1-1-MR', 'TaiESM1', 'CMCC-CM2-SR5', 'CMCC-ESM2', 'IPSL-CM6A-LR', 'EC-Earth3', 'IITM-ESM', 'NorESM2-MM', 'FGOALS-g3', 'ACCESS-ESM1-5']\n",
      "['E3SM-1-1', 'CAS-ESM2-0', 'KIOST-ESM', 'E3SM-Project', 'CAMS-CSM1-0', 'MPI-ESM1-2-HR', 'INM-CM4-8', 'INM-CM5-0', 'FGOALS-f3-L', 'AWI-CM-1-1-MR', 'TaiESM1', 'CMCC-CM2-SR5', 'CMCC-ESM2', 'IPSL-CM6A-LR', 'EC-Earth3', 'IITM-ESM', 'NorESM2-MM', 'FGOALS-g3', 'ACCESS-ESM1-5', 'NorESM2-LM']\n",
      "['E3SM-1-1', 'CAS-ESM2-0', 'KIOST-ESM', 'E3SM-Project', 'CAMS-CSM1-0', 'MPI-ESM1-2-HR', 'INM-CM4-8', 'INM-CM5-0', 'FGOALS-f3-L', 'AWI-CM-1-1-MR', 'TaiESM1', 'CMCC-CM2-SR5', 'CMCC-ESM2', 'IPSL-CM6A-LR', 'EC-Earth3', 'IITM-ESM', 'NorESM2-MM', 'FGOALS-g3', 'ACCESS-ESM1-5', 'NorESM2-LM', 'ACCESS-CM2']\n",
      "['E3SM-1-1', 'CAS-ESM2-0', 'KIOST-ESM', 'E3SM-Project', 'CAMS-CSM1-0', 'MPI-ESM1-2-HR', 'INM-CM4-8', 'INM-CM5-0', 'FGOALS-f3-L', 'AWI-CM-1-1-MR', 'TaiESM1', 'CMCC-CM2-SR5', 'CMCC-ESM2', 'IPSL-CM6A-LR', 'EC-Earth3', 'IITM-ESM', 'NorESM2-MM', 'FGOALS-g3', 'ACCESS-ESM1-5', 'NorESM2-LM', 'ACCESS-CM2', 'GFDL-ESM4']\n",
      "['E3SM-1-1', 'CAS-ESM2-0', 'KIOST-ESM', 'E3SM-Project', 'CAMS-CSM1-0', 'MPI-ESM1-2-HR', 'INM-CM4-8', 'INM-CM5-0', 'FGOALS-f3-L', 'AWI-CM-1-1-MR', 'TaiESM1', 'CMCC-CM2-SR5', 'CMCC-ESM2', 'IPSL-CM6A-LR', 'EC-Earth3', 'IITM-ESM', 'NorESM2-MM', 'FGOALS-g3', 'ACCESS-ESM1-5', 'NorESM2-LM', 'ACCESS-CM2', 'GFDL-ESM4', 'EC-Earth3-Veg']\n",
      "['E3SM-1-1', 'CAS-ESM2-0', 'KIOST-ESM', 'E3SM-Project', 'CAMS-CSM1-0', 'MPI-ESM1-2-HR', 'INM-CM4-8', 'INM-CM5-0', 'FGOALS-f3-L', 'AWI-CM-1-1-MR', 'TaiESM1', 'CMCC-CM2-SR5', 'CMCC-ESM2', 'IPSL-CM6A-LR', 'EC-Earth3', 'IITM-ESM', 'NorESM2-MM', 'FGOALS-g3', 'ACCESS-ESM1-5', 'NorESM2-LM', 'ACCESS-CM2', 'GFDL-ESM4', 'EC-Earth3-Veg', 'EC-Earth3-Veg-LR']\n",
      "['E3SM-1-1', 'CAS-ESM2-0', 'KIOST-ESM', 'E3SM-Project', 'CAMS-CSM1-0', 'MPI-ESM1-2-HR', 'INM-CM4-8', 'INM-CM5-0', 'FGOALS-f3-L', 'AWI-CM-1-1-MR', 'TaiESM1', 'CMCC-CM2-SR5', 'CMCC-ESM2', 'IPSL-CM6A-LR', 'EC-Earth3', 'IITM-ESM', 'NorESM2-MM', 'FGOALS-g3', 'ACCESS-ESM1-5', 'NorESM2-LM', 'ACCESS-CM2', 'GFDL-ESM4', 'EC-Earth3-Veg', 'EC-Earth3-Veg-LR', 'NESM3']\n",
      "['E3SM-1-1', 'CAS-ESM2-0', 'KIOST-ESM', 'E3SM-Project', 'CAMS-CSM1-0', 'MPI-ESM1-2-HR', 'INM-CM4-8', 'INM-CM5-0', 'FGOALS-f3-L', 'AWI-CM-1-1-MR', 'TaiESM1', 'CMCC-CM2-SR5', 'CMCC-ESM2', 'IPSL-CM6A-LR', 'EC-Earth3', 'IITM-ESM', 'NorESM2-MM', 'FGOALS-g3', 'ACCESS-ESM1-5', 'NorESM2-LM', 'ACCESS-CM2', 'GFDL-ESM4', 'EC-Earth3-Veg', 'EC-Earth3-Veg-LR', 'NESM3', 'MRI-ESM2-0']\n",
      "['E3SM-1-1', 'CAS-ESM2-0', 'KIOST-ESM', 'E3SM-Project', 'CAMS-CSM1-0', 'MPI-ESM1-2-HR', 'INM-CM4-8', 'INM-CM5-0', 'FGOALS-f3-L', 'AWI-CM-1-1-MR', 'TaiESM1', 'CMCC-CM2-SR5', 'CMCC-ESM2', 'IPSL-CM6A-LR', 'EC-Earth3', 'IITM-ESM', 'NorESM2-MM', 'FGOALS-g3', 'ACCESS-ESM1-5', 'NorESM2-LM', 'ACCESS-CM2', 'GFDL-ESM4', 'EC-Earth3-Veg', 'EC-Earth3-Veg-LR', 'NESM3', 'MRI-ESM2-0', 'CanESM5']\n",
      "['E3SM-1-1', 'CAS-ESM2-0', 'KIOST-ESM', 'E3SM-Project', 'CAMS-CSM1-0', 'MPI-ESM1-2-HR', 'INM-CM4-8', 'INM-CM5-0', 'FGOALS-f3-L', 'AWI-CM-1-1-MR', 'TaiESM1', 'CMCC-CM2-SR5', 'CMCC-ESM2', 'IPSL-CM6A-LR', 'EC-Earth3', 'IITM-ESM', 'NorESM2-MM', 'FGOALS-g3', 'ACCESS-ESM1-5', 'NorESM2-LM', 'ACCESS-CM2', 'GFDL-ESM4', 'EC-Earth3-Veg', 'EC-Earth3-Veg-LR', 'NESM3', 'MRI-ESM2-0', 'CanESM5', 'MIROC6']\n",
      "['E3SM-1-1', 'CAS-ESM2-0', 'KIOST-ESM', 'E3SM-Project', 'CAMS-CSM1-0', 'MPI-ESM1-2-HR', 'INM-CM4-8', 'INM-CM5-0', 'FGOALS-f3-L', 'AWI-CM-1-1-MR', 'TaiESM1', 'CMCC-CM2-SR5', 'CMCC-ESM2', 'IPSL-CM6A-LR', 'EC-Earth3', 'IITM-ESM', 'NorESM2-MM', 'FGOALS-g3', 'ACCESS-ESM1-5', 'NorESM2-LM', 'ACCESS-CM2', 'GFDL-ESM4', 'EC-Earth3-Veg', 'EC-Earth3-Veg-LR', 'NESM3', 'MRI-ESM2-0', 'CanESM5', 'MIROC6', 'CESM2-WACCM']\n",
      "['E3SM-1-1', 'CAS-ESM2-0', 'KIOST-ESM', 'E3SM-Project', 'CAMS-CSM1-0', 'MPI-ESM1-2-HR', 'INM-CM4-8', 'INM-CM5-0', 'FGOALS-f3-L', 'AWI-CM-1-1-MR', 'TaiESM1', 'CMCC-CM2-SR5', 'CMCC-ESM2', 'IPSL-CM6A-LR', 'EC-Earth3', 'IITM-ESM', 'NorESM2-MM', 'FGOALS-g3', 'ACCESS-ESM1-5', 'NorESM2-LM', 'ACCESS-CM2', 'GFDL-ESM4', 'EC-Earth3-Veg', 'EC-Earth3-Veg-LR', 'NESM3', 'MRI-ESM2-0', 'CanESM5', 'MIROC6', 'CESM2-WACCM', 'E3SM-1-1-ECA']\n",
      "['E3SM-1-1', 'CAS-ESM2-0', 'KIOST-ESM', 'E3SM-Project', 'CAMS-CSM1-0', 'MPI-ESM1-2-HR', 'INM-CM4-8', 'INM-CM5-0', 'FGOALS-f3-L', 'AWI-CM-1-1-MR', 'TaiESM1', 'CMCC-CM2-SR5', 'CMCC-ESM2', 'IPSL-CM6A-LR', 'EC-Earth3', 'IITM-ESM', 'NorESM2-MM', 'FGOALS-g3', 'ACCESS-ESM1-5', 'NorESM2-LM', 'ACCESS-CM2', 'GFDL-ESM4', 'EC-Earth3-Veg', 'EC-Earth3-Veg-LR', 'NESM3', 'MRI-ESM2-0', 'CanESM5', 'MIROC6', 'CESM2-WACCM', 'E3SM-1-1-ECA', 'MPI-ESM1-2-LR']\n",
      "monthly frame added\n",
      "seasonal\n",
      "['E3SM-1-1']\n",
      "['E3SM-1-1', 'CAS-ESM2-0']\n",
      "['E3SM-1-1', 'CAS-ESM2-0', 'KIOST-ESM']\n",
      "['E3SM-1-1', 'CAS-ESM2-0', 'KIOST-ESM', 'E3SM-Project']\n",
      "['E3SM-1-1', 'CAS-ESM2-0', 'KIOST-ESM', 'E3SM-Project', 'CAMS-CSM1-0']\n",
      "['E3SM-1-1', 'CAS-ESM2-0', 'KIOST-ESM', 'E3SM-Project', 'CAMS-CSM1-0', 'MPI-ESM1-2-HR']\n",
      "['E3SM-1-1', 'CAS-ESM2-0', 'KIOST-ESM', 'E3SM-Project', 'CAMS-CSM1-0', 'MPI-ESM1-2-HR', 'INM-CM4-8']\n",
      "['E3SM-1-1', 'CAS-ESM2-0', 'KIOST-ESM', 'E3SM-Project', 'CAMS-CSM1-0', 'MPI-ESM1-2-HR', 'INM-CM4-8', 'INM-CM5-0']\n",
      "['E3SM-1-1', 'CAS-ESM2-0', 'KIOST-ESM', 'E3SM-Project', 'CAMS-CSM1-0', 'MPI-ESM1-2-HR', 'INM-CM4-8', 'INM-CM5-0', 'FGOALS-f3-L']\n",
      "['E3SM-1-1', 'CAS-ESM2-0', 'KIOST-ESM', 'E3SM-Project', 'CAMS-CSM1-0', 'MPI-ESM1-2-HR', 'INM-CM4-8', 'INM-CM5-0', 'FGOALS-f3-L', 'AWI-CM-1-1-MR']\n",
      "['E3SM-1-1', 'CAS-ESM2-0', 'KIOST-ESM', 'E3SM-Project', 'CAMS-CSM1-0', 'MPI-ESM1-2-HR', 'INM-CM4-8', 'INM-CM5-0', 'FGOALS-f3-L', 'AWI-CM-1-1-MR', 'TaiESM1']\n",
      "['E3SM-1-1', 'CAS-ESM2-0', 'KIOST-ESM', 'E3SM-Project', 'CAMS-CSM1-0', 'MPI-ESM1-2-HR', 'INM-CM4-8', 'INM-CM5-0', 'FGOALS-f3-L', 'AWI-CM-1-1-MR', 'TaiESM1', 'CMCC-CM2-SR5']\n"
     ]
    },
    {
     "name": "stdout",
     "output_type": "stream",
     "text": [
      "['E3SM-1-1', 'CAS-ESM2-0', 'KIOST-ESM', 'E3SM-Project', 'CAMS-CSM1-0', 'MPI-ESM1-2-HR', 'INM-CM4-8', 'INM-CM5-0', 'FGOALS-f3-L', 'AWI-CM-1-1-MR', 'TaiESM1', 'CMCC-CM2-SR5', 'CMCC-ESM2']\n",
      "['E3SM-1-1', 'CAS-ESM2-0', 'KIOST-ESM', 'E3SM-Project', 'CAMS-CSM1-0', 'MPI-ESM1-2-HR', 'INM-CM4-8', 'INM-CM5-0', 'FGOALS-f3-L', 'AWI-CM-1-1-MR', 'TaiESM1', 'CMCC-CM2-SR5', 'CMCC-ESM2', 'IPSL-CM6A-LR']\n",
      "['E3SM-1-1', 'CAS-ESM2-0', 'KIOST-ESM', 'E3SM-Project', 'CAMS-CSM1-0', 'MPI-ESM1-2-HR', 'INM-CM4-8', 'INM-CM5-0', 'FGOALS-f3-L', 'AWI-CM-1-1-MR', 'TaiESM1', 'CMCC-CM2-SR5', 'CMCC-ESM2', 'IPSL-CM6A-LR', 'EC-Earth3']\n",
      "['E3SM-1-1', 'CAS-ESM2-0', 'KIOST-ESM', 'E3SM-Project', 'CAMS-CSM1-0', 'MPI-ESM1-2-HR', 'INM-CM4-8', 'INM-CM5-0', 'FGOALS-f3-L', 'AWI-CM-1-1-MR', 'TaiESM1', 'CMCC-CM2-SR5', 'CMCC-ESM2', 'IPSL-CM6A-LR', 'EC-Earth3', 'IITM-ESM']\n",
      "['E3SM-1-1', 'CAS-ESM2-0', 'KIOST-ESM', 'E3SM-Project', 'CAMS-CSM1-0', 'MPI-ESM1-2-HR', 'INM-CM4-8', 'INM-CM5-0', 'FGOALS-f3-L', 'AWI-CM-1-1-MR', 'TaiESM1', 'CMCC-CM2-SR5', 'CMCC-ESM2', 'IPSL-CM6A-LR', 'EC-Earth3', 'IITM-ESM', 'NorESM2-MM']\n",
      "['E3SM-1-1', 'CAS-ESM2-0', 'KIOST-ESM', 'E3SM-Project', 'CAMS-CSM1-0', 'MPI-ESM1-2-HR', 'INM-CM4-8', 'INM-CM5-0', 'FGOALS-f3-L', 'AWI-CM-1-1-MR', 'TaiESM1', 'CMCC-CM2-SR5', 'CMCC-ESM2', 'IPSL-CM6A-LR', 'EC-Earth3', 'IITM-ESM', 'NorESM2-MM', 'FGOALS-g3']\n",
      "['E3SM-1-1', 'CAS-ESM2-0', 'KIOST-ESM', 'E3SM-Project', 'CAMS-CSM1-0', 'MPI-ESM1-2-HR', 'INM-CM4-8', 'INM-CM5-0', 'FGOALS-f3-L', 'AWI-CM-1-1-MR', 'TaiESM1', 'CMCC-CM2-SR5', 'CMCC-ESM2', 'IPSL-CM6A-LR', 'EC-Earth3', 'IITM-ESM', 'NorESM2-MM', 'FGOALS-g3', 'ACCESS-ESM1-5']\n",
      "['E3SM-1-1', 'CAS-ESM2-0', 'KIOST-ESM', 'E3SM-Project', 'CAMS-CSM1-0', 'MPI-ESM1-2-HR', 'INM-CM4-8', 'INM-CM5-0', 'FGOALS-f3-L', 'AWI-CM-1-1-MR', 'TaiESM1', 'CMCC-CM2-SR5', 'CMCC-ESM2', 'IPSL-CM6A-LR', 'EC-Earth3', 'IITM-ESM', 'NorESM2-MM', 'FGOALS-g3', 'ACCESS-ESM1-5', 'NorESM2-LM']\n",
      "['E3SM-1-1', 'CAS-ESM2-0', 'KIOST-ESM', 'E3SM-Project', 'CAMS-CSM1-0', 'MPI-ESM1-2-HR', 'INM-CM4-8', 'INM-CM5-0', 'FGOALS-f3-L', 'AWI-CM-1-1-MR', 'TaiESM1', 'CMCC-CM2-SR5', 'CMCC-ESM2', 'IPSL-CM6A-LR', 'EC-Earth3', 'IITM-ESM', 'NorESM2-MM', 'FGOALS-g3', 'ACCESS-ESM1-5', 'NorESM2-LM', 'ACCESS-CM2']\n",
      "['E3SM-1-1', 'CAS-ESM2-0', 'KIOST-ESM', 'E3SM-Project', 'CAMS-CSM1-0', 'MPI-ESM1-2-HR', 'INM-CM4-8', 'INM-CM5-0', 'FGOALS-f3-L', 'AWI-CM-1-1-MR', 'TaiESM1', 'CMCC-CM2-SR5', 'CMCC-ESM2', 'IPSL-CM6A-LR', 'EC-Earth3', 'IITM-ESM', 'NorESM2-MM', 'FGOALS-g3', 'ACCESS-ESM1-5', 'NorESM2-LM', 'ACCESS-CM2', 'GFDL-ESM4']\n",
      "['E3SM-1-1', 'CAS-ESM2-0', 'KIOST-ESM', 'E3SM-Project', 'CAMS-CSM1-0', 'MPI-ESM1-2-HR', 'INM-CM4-8', 'INM-CM5-0', 'FGOALS-f3-L', 'AWI-CM-1-1-MR', 'TaiESM1', 'CMCC-CM2-SR5', 'CMCC-ESM2', 'IPSL-CM6A-LR', 'EC-Earth3', 'IITM-ESM', 'NorESM2-MM', 'FGOALS-g3', 'ACCESS-ESM1-5', 'NorESM2-LM', 'ACCESS-CM2', 'GFDL-ESM4', 'EC-Earth3-Veg']\n",
      "['E3SM-1-1', 'CAS-ESM2-0', 'KIOST-ESM', 'E3SM-Project', 'CAMS-CSM1-0', 'MPI-ESM1-2-HR', 'INM-CM4-8', 'INM-CM5-0', 'FGOALS-f3-L', 'AWI-CM-1-1-MR', 'TaiESM1', 'CMCC-CM2-SR5', 'CMCC-ESM2', 'IPSL-CM6A-LR', 'EC-Earth3', 'IITM-ESM', 'NorESM2-MM', 'FGOALS-g3', 'ACCESS-ESM1-5', 'NorESM2-LM', 'ACCESS-CM2', 'GFDL-ESM4', 'EC-Earth3-Veg', 'EC-Earth3-Veg-LR']\n",
      "['E3SM-1-1', 'CAS-ESM2-0', 'KIOST-ESM', 'E3SM-Project', 'CAMS-CSM1-0', 'MPI-ESM1-2-HR', 'INM-CM4-8', 'INM-CM5-0', 'FGOALS-f3-L', 'AWI-CM-1-1-MR', 'TaiESM1', 'CMCC-CM2-SR5', 'CMCC-ESM2', 'IPSL-CM6A-LR', 'EC-Earth3', 'IITM-ESM', 'NorESM2-MM', 'FGOALS-g3', 'ACCESS-ESM1-5', 'NorESM2-LM', 'ACCESS-CM2', 'GFDL-ESM4', 'EC-Earth3-Veg', 'EC-Earth3-Veg-LR', 'NESM3']\n",
      "['E3SM-1-1', 'CAS-ESM2-0', 'KIOST-ESM', 'E3SM-Project', 'CAMS-CSM1-0', 'MPI-ESM1-2-HR', 'INM-CM4-8', 'INM-CM5-0', 'FGOALS-f3-L', 'AWI-CM-1-1-MR', 'TaiESM1', 'CMCC-CM2-SR5', 'CMCC-ESM2', 'IPSL-CM6A-LR', 'EC-Earth3', 'IITM-ESM', 'NorESM2-MM', 'FGOALS-g3', 'ACCESS-ESM1-5', 'NorESM2-LM', 'ACCESS-CM2', 'GFDL-ESM4', 'EC-Earth3-Veg', 'EC-Earth3-Veg-LR', 'NESM3', 'MRI-ESM2-0']\n",
      "['E3SM-1-1', 'CAS-ESM2-0', 'KIOST-ESM', 'E3SM-Project', 'CAMS-CSM1-0', 'MPI-ESM1-2-HR', 'INM-CM4-8', 'INM-CM5-0', 'FGOALS-f3-L', 'AWI-CM-1-1-MR', 'TaiESM1', 'CMCC-CM2-SR5', 'CMCC-ESM2', 'IPSL-CM6A-LR', 'EC-Earth3', 'IITM-ESM', 'NorESM2-MM', 'FGOALS-g3', 'ACCESS-ESM1-5', 'NorESM2-LM', 'ACCESS-CM2', 'GFDL-ESM4', 'EC-Earth3-Veg', 'EC-Earth3-Veg-LR', 'NESM3', 'MRI-ESM2-0', 'CanESM5']\n",
      "['E3SM-1-1', 'CAS-ESM2-0', 'KIOST-ESM', 'E3SM-Project', 'CAMS-CSM1-0', 'MPI-ESM1-2-HR', 'INM-CM4-8', 'INM-CM5-0', 'FGOALS-f3-L', 'AWI-CM-1-1-MR', 'TaiESM1', 'CMCC-CM2-SR5', 'CMCC-ESM2', 'IPSL-CM6A-LR', 'EC-Earth3', 'IITM-ESM', 'NorESM2-MM', 'FGOALS-g3', 'ACCESS-ESM1-5', 'NorESM2-LM', 'ACCESS-CM2', 'GFDL-ESM4', 'EC-Earth3-Veg', 'EC-Earth3-Veg-LR', 'NESM3', 'MRI-ESM2-0', 'CanESM5', 'MIROC6']\n",
      "['E3SM-1-1', 'CAS-ESM2-0', 'KIOST-ESM', 'E3SM-Project', 'CAMS-CSM1-0', 'MPI-ESM1-2-HR', 'INM-CM4-8', 'INM-CM5-0', 'FGOALS-f3-L', 'AWI-CM-1-1-MR', 'TaiESM1', 'CMCC-CM2-SR5', 'CMCC-ESM2', 'IPSL-CM6A-LR', 'EC-Earth3', 'IITM-ESM', 'NorESM2-MM', 'FGOALS-g3', 'ACCESS-ESM1-5', 'NorESM2-LM', 'ACCESS-CM2', 'GFDL-ESM4', 'EC-Earth3-Veg', 'EC-Earth3-Veg-LR', 'NESM3', 'MRI-ESM2-0', 'CanESM5', 'MIROC6', 'CESM2-WACCM']\n",
      "['E3SM-1-1', 'CAS-ESM2-0', 'KIOST-ESM', 'E3SM-Project', 'CAMS-CSM1-0', 'MPI-ESM1-2-HR', 'INM-CM4-8', 'INM-CM5-0', 'FGOALS-f3-L', 'AWI-CM-1-1-MR', 'TaiESM1', 'CMCC-CM2-SR5', 'CMCC-ESM2', 'IPSL-CM6A-LR', 'EC-Earth3', 'IITM-ESM', 'NorESM2-MM', 'FGOALS-g3', 'ACCESS-ESM1-5', 'NorESM2-LM', 'ACCESS-CM2', 'GFDL-ESM4', 'EC-Earth3-Veg', 'EC-Earth3-Veg-LR', 'NESM3', 'MRI-ESM2-0', 'CanESM5', 'MIROC6', 'CESM2-WACCM', 'E3SM-1-1-ECA']\n",
      "['E3SM-1-1', 'CAS-ESM2-0', 'KIOST-ESM', 'E3SM-Project', 'CAMS-CSM1-0', 'MPI-ESM1-2-HR', 'INM-CM4-8', 'INM-CM5-0', 'FGOALS-f3-L', 'AWI-CM-1-1-MR', 'TaiESM1', 'CMCC-CM2-SR5', 'CMCC-ESM2', 'IPSL-CM6A-LR', 'EC-Earth3', 'IITM-ESM', 'NorESM2-MM', 'FGOALS-g3', 'ACCESS-ESM1-5', 'NorESM2-LM', 'ACCESS-CM2', 'GFDL-ESM4', 'EC-Earth3-Veg', 'EC-Earth3-Veg-LR', 'NESM3', 'MRI-ESM2-0', 'CanESM5', 'MIROC6', 'CESM2-WACCM', 'E3SM-1-1-ECA', 'MPI-ESM1-2-LR']\n",
      "seasonal frame added\n",
      "yearly\n",
      "['E3SM-1-1']\n",
      "['E3SM-1-1', 'CAS-ESM2-0']\n",
      "['E3SM-1-1', 'CAS-ESM2-0', 'KIOST-ESM']\n",
      "['E3SM-1-1', 'CAS-ESM2-0', 'KIOST-ESM', 'E3SM-Project']\n",
      "['E3SM-1-1', 'CAS-ESM2-0', 'KIOST-ESM', 'E3SM-Project', 'CAMS-CSM1-0']\n",
      "['E3SM-1-1', 'CAS-ESM2-0', 'KIOST-ESM', 'E3SM-Project', 'CAMS-CSM1-0', 'MPI-ESM1-2-HR']\n",
      "['E3SM-1-1', 'CAS-ESM2-0', 'KIOST-ESM', 'E3SM-Project', 'CAMS-CSM1-0', 'MPI-ESM1-2-HR', 'INM-CM4-8']\n",
      "['E3SM-1-1', 'CAS-ESM2-0', 'KIOST-ESM', 'E3SM-Project', 'CAMS-CSM1-0', 'MPI-ESM1-2-HR', 'INM-CM4-8', 'INM-CM5-0']\n",
      "['E3SM-1-1', 'CAS-ESM2-0', 'KIOST-ESM', 'E3SM-Project', 'CAMS-CSM1-0', 'MPI-ESM1-2-HR', 'INM-CM4-8', 'INM-CM5-0', 'FGOALS-f3-L']\n",
      "['E3SM-1-1', 'CAS-ESM2-0', 'KIOST-ESM', 'E3SM-Project', 'CAMS-CSM1-0', 'MPI-ESM1-2-HR', 'INM-CM4-8', 'INM-CM5-0', 'FGOALS-f3-L', 'AWI-CM-1-1-MR']\n",
      "['E3SM-1-1', 'CAS-ESM2-0', 'KIOST-ESM', 'E3SM-Project', 'CAMS-CSM1-0', 'MPI-ESM1-2-HR', 'INM-CM4-8', 'INM-CM5-0', 'FGOALS-f3-L', 'AWI-CM-1-1-MR', 'TaiESM1']\n",
      "['E3SM-1-1', 'CAS-ESM2-0', 'KIOST-ESM', 'E3SM-Project', 'CAMS-CSM1-0', 'MPI-ESM1-2-HR', 'INM-CM4-8', 'INM-CM5-0', 'FGOALS-f3-L', 'AWI-CM-1-1-MR', 'TaiESM1', 'CMCC-CM2-SR5']\n",
      "['E3SM-1-1', 'CAS-ESM2-0', 'KIOST-ESM', 'E3SM-Project', 'CAMS-CSM1-0', 'MPI-ESM1-2-HR', 'INM-CM4-8', 'INM-CM5-0', 'FGOALS-f3-L', 'AWI-CM-1-1-MR', 'TaiESM1', 'CMCC-CM2-SR5', 'CMCC-ESM2']\n",
      "['E3SM-1-1', 'CAS-ESM2-0', 'KIOST-ESM', 'E3SM-Project', 'CAMS-CSM1-0', 'MPI-ESM1-2-HR', 'INM-CM4-8', 'INM-CM5-0', 'FGOALS-f3-L', 'AWI-CM-1-1-MR', 'TaiESM1', 'CMCC-CM2-SR5', 'CMCC-ESM2', 'IPSL-CM6A-LR']\n",
      "['E3SM-1-1', 'CAS-ESM2-0', 'KIOST-ESM', 'E3SM-Project', 'CAMS-CSM1-0', 'MPI-ESM1-2-HR', 'INM-CM4-8', 'INM-CM5-0', 'FGOALS-f3-L', 'AWI-CM-1-1-MR', 'TaiESM1', 'CMCC-CM2-SR5', 'CMCC-ESM2', 'IPSL-CM6A-LR', 'EC-Earth3']\n",
      "['E3SM-1-1', 'CAS-ESM2-0', 'KIOST-ESM', 'E3SM-Project', 'CAMS-CSM1-0', 'MPI-ESM1-2-HR', 'INM-CM4-8', 'INM-CM5-0', 'FGOALS-f3-L', 'AWI-CM-1-1-MR', 'TaiESM1', 'CMCC-CM2-SR5', 'CMCC-ESM2', 'IPSL-CM6A-LR', 'EC-Earth3', 'IITM-ESM']\n",
      "['E3SM-1-1', 'CAS-ESM2-0', 'KIOST-ESM', 'E3SM-Project', 'CAMS-CSM1-0', 'MPI-ESM1-2-HR', 'INM-CM4-8', 'INM-CM5-0', 'FGOALS-f3-L', 'AWI-CM-1-1-MR', 'TaiESM1', 'CMCC-CM2-SR5', 'CMCC-ESM2', 'IPSL-CM6A-LR', 'EC-Earth3', 'IITM-ESM', 'NorESM2-MM']\n",
      "['E3SM-1-1', 'CAS-ESM2-0', 'KIOST-ESM', 'E3SM-Project', 'CAMS-CSM1-0', 'MPI-ESM1-2-HR', 'INM-CM4-8', 'INM-CM5-0', 'FGOALS-f3-L', 'AWI-CM-1-1-MR', 'TaiESM1', 'CMCC-CM2-SR5', 'CMCC-ESM2', 'IPSL-CM6A-LR', 'EC-Earth3', 'IITM-ESM', 'NorESM2-MM', 'FGOALS-g3']\n",
      "['E3SM-1-1', 'CAS-ESM2-0', 'KIOST-ESM', 'E3SM-Project', 'CAMS-CSM1-0', 'MPI-ESM1-2-HR', 'INM-CM4-8', 'INM-CM5-0', 'FGOALS-f3-L', 'AWI-CM-1-1-MR', 'TaiESM1', 'CMCC-CM2-SR5', 'CMCC-ESM2', 'IPSL-CM6A-LR', 'EC-Earth3', 'IITM-ESM', 'NorESM2-MM', 'FGOALS-g3', 'ACCESS-ESM1-5']\n"
     ]
    },
    {
     "name": "stdout",
     "output_type": "stream",
     "text": [
      "['E3SM-1-1', 'CAS-ESM2-0', 'KIOST-ESM', 'E3SM-Project', 'CAMS-CSM1-0', 'MPI-ESM1-2-HR', 'INM-CM4-8', 'INM-CM5-0', 'FGOALS-f3-L', 'AWI-CM-1-1-MR', 'TaiESM1', 'CMCC-CM2-SR5', 'CMCC-ESM2', 'IPSL-CM6A-LR', 'EC-Earth3', 'IITM-ESM', 'NorESM2-MM', 'FGOALS-g3', 'ACCESS-ESM1-5', 'NorESM2-LM']\n",
      "['E3SM-1-1', 'CAS-ESM2-0', 'KIOST-ESM', 'E3SM-Project', 'CAMS-CSM1-0', 'MPI-ESM1-2-HR', 'INM-CM4-8', 'INM-CM5-0', 'FGOALS-f3-L', 'AWI-CM-1-1-MR', 'TaiESM1', 'CMCC-CM2-SR5', 'CMCC-ESM2', 'IPSL-CM6A-LR', 'EC-Earth3', 'IITM-ESM', 'NorESM2-MM', 'FGOALS-g3', 'ACCESS-ESM1-5', 'NorESM2-LM', 'ACCESS-CM2']\n",
      "['E3SM-1-1', 'CAS-ESM2-0', 'KIOST-ESM', 'E3SM-Project', 'CAMS-CSM1-0', 'MPI-ESM1-2-HR', 'INM-CM4-8', 'INM-CM5-0', 'FGOALS-f3-L', 'AWI-CM-1-1-MR', 'TaiESM1', 'CMCC-CM2-SR5', 'CMCC-ESM2', 'IPSL-CM6A-LR', 'EC-Earth3', 'IITM-ESM', 'NorESM2-MM', 'FGOALS-g3', 'ACCESS-ESM1-5', 'NorESM2-LM', 'ACCESS-CM2', 'GFDL-ESM4']\n",
      "['E3SM-1-1', 'CAS-ESM2-0', 'KIOST-ESM', 'E3SM-Project', 'CAMS-CSM1-0', 'MPI-ESM1-2-HR', 'INM-CM4-8', 'INM-CM5-0', 'FGOALS-f3-L', 'AWI-CM-1-1-MR', 'TaiESM1', 'CMCC-CM2-SR5', 'CMCC-ESM2', 'IPSL-CM6A-LR', 'EC-Earth3', 'IITM-ESM', 'NorESM2-MM', 'FGOALS-g3', 'ACCESS-ESM1-5', 'NorESM2-LM', 'ACCESS-CM2', 'GFDL-ESM4', 'EC-Earth3-Veg']\n",
      "['E3SM-1-1', 'CAS-ESM2-0', 'KIOST-ESM', 'E3SM-Project', 'CAMS-CSM1-0', 'MPI-ESM1-2-HR', 'INM-CM4-8', 'INM-CM5-0', 'FGOALS-f3-L', 'AWI-CM-1-1-MR', 'TaiESM1', 'CMCC-CM2-SR5', 'CMCC-ESM2', 'IPSL-CM6A-LR', 'EC-Earth3', 'IITM-ESM', 'NorESM2-MM', 'FGOALS-g3', 'ACCESS-ESM1-5', 'NorESM2-LM', 'ACCESS-CM2', 'GFDL-ESM4', 'EC-Earth3-Veg', 'EC-Earth3-Veg-LR']\n",
      "['E3SM-1-1', 'CAS-ESM2-0', 'KIOST-ESM', 'E3SM-Project', 'CAMS-CSM1-0', 'MPI-ESM1-2-HR', 'INM-CM4-8', 'INM-CM5-0', 'FGOALS-f3-L', 'AWI-CM-1-1-MR', 'TaiESM1', 'CMCC-CM2-SR5', 'CMCC-ESM2', 'IPSL-CM6A-LR', 'EC-Earth3', 'IITM-ESM', 'NorESM2-MM', 'FGOALS-g3', 'ACCESS-ESM1-5', 'NorESM2-LM', 'ACCESS-CM2', 'GFDL-ESM4', 'EC-Earth3-Veg', 'EC-Earth3-Veg-LR', 'NESM3']\n",
      "['E3SM-1-1', 'CAS-ESM2-0', 'KIOST-ESM', 'E3SM-Project', 'CAMS-CSM1-0', 'MPI-ESM1-2-HR', 'INM-CM4-8', 'INM-CM5-0', 'FGOALS-f3-L', 'AWI-CM-1-1-MR', 'TaiESM1', 'CMCC-CM2-SR5', 'CMCC-ESM2', 'IPSL-CM6A-LR', 'EC-Earth3', 'IITM-ESM', 'NorESM2-MM', 'FGOALS-g3', 'ACCESS-ESM1-5', 'NorESM2-LM', 'ACCESS-CM2', 'GFDL-ESM4', 'EC-Earth3-Veg', 'EC-Earth3-Veg-LR', 'NESM3', 'MRI-ESM2-0']\n",
      "['E3SM-1-1', 'CAS-ESM2-0', 'KIOST-ESM', 'E3SM-Project', 'CAMS-CSM1-0', 'MPI-ESM1-2-HR', 'INM-CM4-8', 'INM-CM5-0', 'FGOALS-f3-L', 'AWI-CM-1-1-MR', 'TaiESM1', 'CMCC-CM2-SR5', 'CMCC-ESM2', 'IPSL-CM6A-LR', 'EC-Earth3', 'IITM-ESM', 'NorESM2-MM', 'FGOALS-g3', 'ACCESS-ESM1-5', 'NorESM2-LM', 'ACCESS-CM2', 'GFDL-ESM4', 'EC-Earth3-Veg', 'EC-Earth3-Veg-LR', 'NESM3', 'MRI-ESM2-0', 'CanESM5']\n",
      "['E3SM-1-1', 'CAS-ESM2-0', 'KIOST-ESM', 'E3SM-Project', 'CAMS-CSM1-0', 'MPI-ESM1-2-HR', 'INM-CM4-8', 'INM-CM5-0', 'FGOALS-f3-L', 'AWI-CM-1-1-MR', 'TaiESM1', 'CMCC-CM2-SR5', 'CMCC-ESM2', 'IPSL-CM6A-LR', 'EC-Earth3', 'IITM-ESM', 'NorESM2-MM', 'FGOALS-g3', 'ACCESS-ESM1-5', 'NorESM2-LM', 'ACCESS-CM2', 'GFDL-ESM4', 'EC-Earth3-Veg', 'EC-Earth3-Veg-LR', 'NESM3', 'MRI-ESM2-0', 'CanESM5', 'MIROC6']\n",
      "['E3SM-1-1', 'CAS-ESM2-0', 'KIOST-ESM', 'E3SM-Project', 'CAMS-CSM1-0', 'MPI-ESM1-2-HR', 'INM-CM4-8', 'INM-CM5-0', 'FGOALS-f3-L', 'AWI-CM-1-1-MR', 'TaiESM1', 'CMCC-CM2-SR5', 'CMCC-ESM2', 'IPSL-CM6A-LR', 'EC-Earth3', 'IITM-ESM', 'NorESM2-MM', 'FGOALS-g3', 'ACCESS-ESM1-5', 'NorESM2-LM', 'ACCESS-CM2', 'GFDL-ESM4', 'EC-Earth3-Veg', 'EC-Earth3-Veg-LR', 'NESM3', 'MRI-ESM2-0', 'CanESM5', 'MIROC6', 'CESM2-WACCM']\n",
      "['E3SM-1-1', 'CAS-ESM2-0', 'KIOST-ESM', 'E3SM-Project', 'CAMS-CSM1-0', 'MPI-ESM1-2-HR', 'INM-CM4-8', 'INM-CM5-0', 'FGOALS-f3-L', 'AWI-CM-1-1-MR', 'TaiESM1', 'CMCC-CM2-SR5', 'CMCC-ESM2', 'IPSL-CM6A-LR', 'EC-Earth3', 'IITM-ESM', 'NorESM2-MM', 'FGOALS-g3', 'ACCESS-ESM1-5', 'NorESM2-LM', 'ACCESS-CM2', 'GFDL-ESM4', 'EC-Earth3-Veg', 'EC-Earth3-Veg-LR', 'NESM3', 'MRI-ESM2-0', 'CanESM5', 'MIROC6', 'CESM2-WACCM', 'E3SM-1-1-ECA']\n",
      "['E3SM-1-1', 'CAS-ESM2-0', 'KIOST-ESM', 'E3SM-Project', 'CAMS-CSM1-0', 'MPI-ESM1-2-HR', 'INM-CM4-8', 'INM-CM5-0', 'FGOALS-f3-L', 'AWI-CM-1-1-MR', 'TaiESM1', 'CMCC-CM2-SR5', 'CMCC-ESM2', 'IPSL-CM6A-LR', 'EC-Earth3', 'IITM-ESM', 'NorESM2-MM', 'FGOALS-g3', 'ACCESS-ESM1-5', 'NorESM2-LM', 'ACCESS-CM2', 'GFDL-ESM4', 'EC-Earth3-Veg', 'EC-Earth3-Veg-LR', 'NESM3', 'MRI-ESM2-0', 'CanESM5', 'MIROC6', 'CESM2-WACCM', 'E3SM-1-1-ECA', 'MPI-ESM1-2-LR']\n",
      "yearly frame added\n"
     ]
    }
   ],
   "source": [
    "rootdir = '/raid01/mafields/tas/MODELS_filtered/ssp585/iceshelves_attempt2/withrow'\n",
    "shapefile = '/raid01/mafields/tas/MODELS_filtered/ssp585/shape_files/Withrow.shp'\n",
    "shelf = 'Withrow'\n",
    "\n",
    "\n",
    "pathlist  = iceshelf_dictionary(rootdir,shapefile,shelf)"
   ]
  },
  {
   "cell_type": "code",
   "execution_count": null,
   "id": "e10f249d",
   "metadata": {},
   "outputs": [],
   "source": []
  },
  {
   "cell_type": "code",
   "execution_count": 98,
   "id": "3b6d128d",
   "metadata": {},
   "outputs": [],
   "source": [
    "reanalysis_monthly = {}\n",
    "reanalysis_seasonal = {}\n",
    "reanalysis_yearly = {}"
   ]
  },
  {
   "cell_type": "code",
   "execution_count": 94,
   "id": "28905aa9",
   "metadata": {},
   "outputs": [
    {
     "ename": "FileNotFoundError",
     "evalue": "[Errno 2] No such file or directory: 'reanalysis_monthly.pkl'",
     "output_type": "error",
     "traceback": [
      "\u001b[0;31m---------------------------------------------------------------------------\u001b[0m",
      "\u001b[0;31mFileNotFoundError\u001b[0m                         Traceback (most recent call last)",
      "Cell \u001b[0;32mIn[94], line 3\u001b[0m\n\u001b[1;32m      1\u001b[0m \u001b[38;5;28;01mimport\u001b[39;00m \u001b[38;5;21;01mpickle\u001b[39;00m\n\u001b[0;32m----> 3\u001b[0m \u001b[38;5;28;01mwith\u001b[39;00m \u001b[38;5;28;43mopen\u001b[39;49m\u001b[43m(\u001b[49m\u001b[38;5;124;43m'\u001b[39;49m\u001b[38;5;124;43mreanalysis_monthly.pkl\u001b[39;49m\u001b[38;5;124;43m'\u001b[39;49m\u001b[43m,\u001b[49m\u001b[43m \u001b[49m\u001b[38;5;124;43m'\u001b[39;49m\u001b[38;5;124;43mrb\u001b[39;49m\u001b[38;5;124;43m'\u001b[39;49m\u001b[43m)\u001b[49m \u001b[38;5;28;01mas\u001b[39;00m f:\n\u001b[1;32m      4\u001b[0m     monthly_reanalysis \u001b[38;5;241m=\u001b[39m pickle\u001b[38;5;241m.\u001b[39mload(f)\n",
      "File \u001b[0;32m~/.conda/envs/cartopy-dev/lib/python3.10/site-packages/IPython/core/interactiveshell.py:282\u001b[0m, in \u001b[0;36m_modified_open\u001b[0;34m(file, *args, **kwargs)\u001b[0m\n\u001b[1;32m    275\u001b[0m \u001b[38;5;28;01mif\u001b[39;00m file \u001b[38;5;129;01min\u001b[39;00m {\u001b[38;5;241m0\u001b[39m, \u001b[38;5;241m1\u001b[39m, \u001b[38;5;241m2\u001b[39m}:\n\u001b[1;32m    276\u001b[0m     \u001b[38;5;28;01mraise\u001b[39;00m \u001b[38;5;167;01mValueError\u001b[39;00m(\n\u001b[1;32m    277\u001b[0m         \u001b[38;5;124mf\u001b[39m\u001b[38;5;124m\"\u001b[39m\u001b[38;5;124mIPython won\u001b[39m\u001b[38;5;124m'\u001b[39m\u001b[38;5;124mt let you open fd=\u001b[39m\u001b[38;5;132;01m{\u001b[39;00mfile\u001b[38;5;132;01m}\u001b[39;00m\u001b[38;5;124m by default \u001b[39m\u001b[38;5;124m\"\u001b[39m\n\u001b[1;32m    278\u001b[0m         \u001b[38;5;124m\"\u001b[39m\u001b[38;5;124mas it is likely to crash IPython. If you know what you are doing, \u001b[39m\u001b[38;5;124m\"\u001b[39m\n\u001b[1;32m    279\u001b[0m         \u001b[38;5;124m\"\u001b[39m\u001b[38;5;124myou can use builtins\u001b[39m\u001b[38;5;124m'\u001b[39m\u001b[38;5;124m open.\u001b[39m\u001b[38;5;124m\"\u001b[39m\n\u001b[1;32m    280\u001b[0m     )\n\u001b[0;32m--> 282\u001b[0m \u001b[38;5;28;01mreturn\u001b[39;00m \u001b[43mio_open\u001b[49m\u001b[43m(\u001b[49m\u001b[43mfile\u001b[49m\u001b[43m,\u001b[49m\u001b[43m \u001b[49m\u001b[38;5;241;43m*\u001b[39;49m\u001b[43margs\u001b[49m\u001b[43m,\u001b[49m\u001b[43m \u001b[49m\u001b[38;5;241;43m*\u001b[39;49m\u001b[38;5;241;43m*\u001b[39;49m\u001b[43mkwargs\u001b[49m\u001b[43m)\u001b[49m\n",
      "\u001b[0;31mFileNotFoundError\u001b[0m: [Errno 2] No such file or directory: 'reanalysis_monthly.pkl'"
     ]
    }
   ],
   "source": [
    "import pickle\n",
    "\n",
    "with open('reanalysis_monthly.pkl', 'rb') as f:\n",
    "    monthly_reanalysis = pickle.load(f)"
   ]
  },
  {
   "cell_type": "code",
   "execution_count": null,
   "id": "a387bf46",
   "metadata": {},
   "outputs": [],
   "source": [
    "with open('reanalysis_seasonal.pkl', 'rb') as f:\n",
    "    seasonal_reanalysis = pickle.load(f)"
   ]
  },
  {
   "cell_type": "code",
   "execution_count": null,
   "id": "b0f4117c",
   "metadata": {},
   "outputs": [],
   "source": [
    "with open('reanalysis_yearly.pkl', 'rb') as f:\n",
    "    yearly_reanalysis = pickle.load(f)"
   ]
  },
  {
   "cell_type": "code",
   "execution_count": 96,
   "id": "55eef36e",
   "metadata": {},
   "outputs": [],
   "source": [
    "def reanalysis_dictionary(path,path2,path3,shapefile,shelf):\n",
    "    \n",
    "        path_list = list()\n",
    "        filler = path\n",
    "        df_mon = reanalysis_cropping_function(path,shapefile)   \n",
    "        reanalysis_monthly[shelf] = df_mon  \n",
    "        \n",
    "        df_seas = reanalysis_cropping_function(path2,shapefile)   \n",
    "        reanalysis_seasonal[shelf] = df_seas\n",
    "        \n",
    "        df_year = reanalysis_cropping_function(path3,shapefile)   \n",
    "        reanalysis_yearly[shelf] = df_year\n",
    "        \n",
    "        path_list.append(filler)\n",
    "        \n",
    "        return path_list"
   ]
  },
  {
   "cell_type": "code",
   "execution_count": 181,
   "id": "61ef74fa",
   "metadata": {},
   "outputs": [
    {
     "data": {
      "text/plain": [
       "dict_keys(['Abbot', 'Amery', 'Atka', 'Baudouin', 'Borchgrevink', 'Brunt Stancomb', 'Conger Glenzer', 'Cook', 'Cosgrove', 'Crosson', 'Dotson', 'Drygalski', 'Ekstrom', 'Filchner', 'Fimbul', 'George VI', 'Getz', 'Holmes', 'Jelbart', 'Land', 'LarsenB', 'LarsenC', 'LarsenD', 'Lazarev', 'Mariner', 'Mertz', 'Moscow University', 'Nansen', 'Nickerson', 'Nivl', 'pine island', 'Prince Harald', 'Quar', 'Rennick', 'Riiser-Larsen', 'Ronne', 'Ross East', 'Ross West', 'Shackleton', 'Stange', 'Sulzberger', 'Thwaites', 'Totten', 'Venable', 'Vigrid', 'West', 'Withrow'])"
      ]
     },
     "execution_count": 181,
     "metadata": {},
     "output_type": "execute_result"
    }
   ],
   "source": [
    "reanalysis_yearly.keys()"
   ]
  },
  {
   "cell_type": "code",
   "execution_count": 174,
   "id": "d177d39e",
   "metadata": {},
   "outputs": [
    {
     "data": {
      "text/html": [
       "<div>\n",
       "<style scoped>\n",
       "    .dataframe tbody tr th:only-of-type {\n",
       "        vertical-align: middle;\n",
       "    }\n",
       "\n",
       "    .dataframe tbody tr th {\n",
       "        vertical-align: top;\n",
       "    }\n",
       "\n",
       "    .dataframe thead th {\n",
       "        text-align: right;\n",
       "    }\n",
       "</style>\n",
       "<table border=\"1\" class=\"dataframe\">\n",
       "  <thead>\n",
       "    <tr style=\"text-align: right;\">\n",
       "      <th></th>\n",
       "      <th>file path</th>\n",
       "      <th>Model</th>\n",
       "      <th>gridsize</th>\n",
       "      <th>temp</th>\n",
       "      <th>year</th>\n",
       "      <th>month</th>\n",
       "      <th>original latitude</th>\n",
       "      <th>original longitude</th>\n",
       "      <th>cropped temp</th>\n",
       "      <th>cropped lat</th>\n",
       "      <th>cropped lon</th>\n",
       "      <th>temp spatial average</th>\n",
       "    </tr>\n",
       "  </thead>\n",
       "  <tbody>\n",
       "    <tr>\n",
       "      <th>0</th>\n",
       "      <td>/raid01/mafields/tas/MODELS_filtered/ssp585/ic...</td>\n",
       "      <td>seasmean</td>\n",
       "      <td>285</td>\n",
       "      <td>[[[-2.472286931143344, -2.6843103070465872, -2...</td>\n",
       "      <td>[1940, 1941, 1942, 1943, 1944, 1945, 1946, 194...</td>\n",
       "      <td>[1, 1, 1, 1, 1, 1, 1, 1, 1, 1, 1, 1, 1, 1, 1, ...</td>\n",
       "      <td>[-72.25, -72.5, -72.75, -73.0, -73.25]</td>\n",
       "      <td>[-103.25, -103.0, -102.75, -102.5, -102.25, -1...</td>\n",
       "      <td>[[-2.472286931143344, -2.6843103070465872, -3....</td>\n",
       "      <td>[-72.25, -72.25, -72.25, -72.25, -72.25, -72.2...</td>\n",
       "      <td>[-103.25, -103.0, -102.5, -102.25, -102.0, -10...</td>\n",
       "      <td>[-4.594308031595278, -4.432360681488522, -5.82...</td>\n",
       "    </tr>\n",
       "  </tbody>\n",
       "</table>\n",
       "</div>"
      ],
      "text/plain": [
       "                                           file path     Model  gridsize  \\\n",
       "0  /raid01/mafields/tas/MODELS_filtered/ssp585/ic...  seasmean       285   \n",
       "\n",
       "                                                temp  \\\n",
       "0  [[[-2.472286931143344, -2.6843103070465872, -2...   \n",
       "\n",
       "                                                year  \\\n",
       "0  [1940, 1941, 1942, 1943, 1944, 1945, 1946, 194...   \n",
       "\n",
       "                                               month  \\\n",
       "0  [1, 1, 1, 1, 1, 1, 1, 1, 1, 1, 1, 1, 1, 1, 1, ...   \n",
       "\n",
       "                        original latitude  \\\n",
       "0  [-72.25, -72.5, -72.75, -73.0, -73.25]   \n",
       "\n",
       "                                  original longitude  \\\n",
       "0  [-103.25, -103.0, -102.75, -102.5, -102.25, -1...   \n",
       "\n",
       "                                        cropped temp  \\\n",
       "0  [[-2.472286931143344, -2.6843103070465872, -3....   \n",
       "\n",
       "                                         cropped lat  \\\n",
       "0  [-72.25, -72.25, -72.25, -72.25, -72.25, -72.2...   \n",
       "\n",
       "                                         cropped lon  \\\n",
       "0  [-103.25, -103.0, -102.5, -102.25, -102.0, -10...   \n",
       "\n",
       "                                temp spatial average  \n",
       "0  [-4.594308031595278, -4.432360681488522, -5.82...  "
      ]
     },
     "execution_count": 174,
     "metadata": {},
     "output_type": "execute_result"
    }
   ],
   "source": []
  },
  {
   "cell_type": "code",
   "execution_count": 180,
   "id": "39a16f04",
   "metadata": {},
   "outputs": [
    {
     "name": "stdout",
     "output_type": "stream",
     "text": [
      "['withrow']\n",
      "['seasmean']\n",
      "['yearmean']\n"
     ]
    }
   ],
   "source": [
    "path = '/raid01/mafields/tas/MODELS_filtered/ssp585/iceshelves/reanalysis/monthly/ERA5_reanalysis_update.withrow.nc'\n",
    "path2 = '/raid01/mafields/tas/MODELS_filtered/ssp585/iceshelves/reanalysis/seasavg/ERA5_reanalysis_update.seasmean.withrow.nc'\n",
    "path3 = '/raid01/mafields/tas/MODELS_filtered/ssp585/iceshelves/reanalysis/yearavg/ERA5_reanalysis_update.yearmean.withrow.nc'\n",
    "shapefile = '/raid01/mafields/tas/MODELS_filtered/ssp585/shape_files/Withrow.shp'\n",
    "shelf = 'Withrow'\n",
    "\n",
    "pathlist  = reanalysis_dictionary(path,path2,path3,shapefile,shelf)"
   ]
  },
  {
   "cell_type": "code",
   "execution_count": 24,
   "id": "e8570645",
   "metadata": {},
   "outputs": [
    {
     "name": "stdout",
     "output_type": "stream",
     "text": [
      "252 252\n"
     ]
    },
    {
     "ename": "ValueError",
     "evalue": "could not broadcast input array from shape (251,) into shape (252,)",
     "output_type": "error",
     "traceback": [
      "\u001b[0;31m---------------------------------------------------------------------------\u001b[0m",
      "\u001b[0;31mValueError\u001b[0m                                Traceback (most recent call last)",
      "Cell \u001b[0;32mIn[24], line 6\u001b[0m\n\u001b[1;32m      3\u001b[0m \u001b[38;5;28mprint\u001b[39m(\u001b[38;5;28mlen\u001b[39m(seasonal_shelves[\u001b[38;5;124m'\u001b[39m\u001b[38;5;124mRoss East\u001b[39m\u001b[38;5;124m'\u001b[39m][\u001b[38;5;124m'\u001b[39m\u001b[38;5;124mtemp spatial average\u001b[39m\u001b[38;5;124m'\u001b[39m][\u001b[38;5;241m1\u001b[39m]),\u001b[38;5;28mlen\u001b[39m(seasonal_shelves[\u001b[38;5;124m'\u001b[39m\u001b[38;5;124mRoss West\u001b[39m\u001b[38;5;124m'\u001b[39m][\u001b[38;5;124m'\u001b[39m\u001b[38;5;124mtemp spatial average\u001b[39m\u001b[38;5;124m'\u001b[39m][\u001b[38;5;241m1\u001b[39m]))\n\u001b[1;32m      5\u001b[0m \u001b[38;5;28;01mfor\u001b[39;00m i \u001b[38;5;129;01min\u001b[39;00m \u001b[38;5;28mrange\u001b[39m(\u001b[38;5;28mlen\u001b[39m(seasonal_shelves[\u001b[38;5;124m'\u001b[39m\u001b[38;5;124mRoss East\u001b[39m\u001b[38;5;124m'\u001b[39m][\u001b[38;5;124m'\u001b[39m\u001b[38;5;124mtemp spatial average\u001b[39m\u001b[38;5;124m'\u001b[39m])):\n\u001b[0;32m----> 6\u001b[0m     \u001b[43mross_spatial_avg\u001b[49m\u001b[43m[\u001b[49m\u001b[43mi\u001b[49m\u001b[43m]\u001b[49m \u001b[38;5;241m=\u001b[39m (np\u001b[38;5;241m.\u001b[39marray(seasonal_shelves[\u001b[38;5;124m'\u001b[39m\u001b[38;5;124mRoss East\u001b[39m\u001b[38;5;124m'\u001b[39m][\u001b[38;5;124m'\u001b[39m\u001b[38;5;124mtemp spatial average\u001b[39m\u001b[38;5;124m'\u001b[39m][i]) \u001b[38;5;241m+\u001b[39m np\u001b[38;5;241m.\u001b[39marray(seasonal_shelves[\u001b[38;5;124m'\u001b[39m\u001b[38;5;124mRoss West\u001b[39m\u001b[38;5;124m'\u001b[39m][\u001b[38;5;124m'\u001b[39m\u001b[38;5;124mtemp spatial average\u001b[39m\u001b[38;5;124m'\u001b[39m][i]))\u001b[38;5;241m/\u001b[39m\u001b[38;5;241m2\u001b[39m\n\u001b[1;32m      7\u001b[0m \u001b[38;5;66;03m#ross_temp_avg = (seasonal_shelves['Ross West']['temp spatial average']+seasonal_shelves['Ross West']['temp spatial average'])/2\u001b[39;00m\n\u001b[1;32m      8\u001b[0m \u001b[38;5;66;03m#Ross_gridsize = seasonal_shelves['Ross East']['temp spatial average'] + seasonal_shelves['Ross West']['temp spatial average']\u001b[39;00m\n",
      "\u001b[0;31mValueError\u001b[0m: could not broadcast input array from shape (251,) into shape (252,)"
     ]
    }
   ],
   "source": [
    "ross_spatial_avg = np.zeros((len(seasonal_shelves['Ross East']['temp spatial average']),len(seasonal_shelves['Ross East']['temp spatial average'][0])))\n",
    "\n",
    "print(len(seasonal_shelves['Ross East']['temp spatial average'][1]),len(seasonal_shelves['Ross West']['temp spatial average'][1]))\n",
    "\n",
    "for i in range(len(seasonal_shelves['Ross East']['temp spatial average'])):\n",
    "    ross_spatial_avg[i] = (np.array(seasonal_shelves['Ross East']['temp spatial average'][i]) + np.array(seasonal_shelves['Ross West']['temp spatial average'][i]))/2\n",
    "#ross_temp_avg = (seasonal_shelves['Ross West']['temp spatial average']+seasonal_shelves['Ross West']['temp spatial average'])/2\n",
    "#Ross_gridsize = seasonal_shelves['Ross East']['temp spatial average'] + seasonal_shelves['Ross West']['temp spatial average']"
   ]
  },
  {
   "cell_type": "code",
   "execution_count": 17,
   "id": "f03c32ad",
   "metadata": {},
   "outputs": [
    {
     "name": "stdout",
     "output_type": "stream",
     "text": [
      "/raid01/mafields/tas/MODELS_filtered/ssp585/iceshelves/abbot/seasonal\n",
      "/raid01/mafields/tas/MODELS_filtered/ssp585/iceshelves/abbot/yearly\n",
      "/raid01/mafields/tas/MODELS_filtered/ssp585/iceshelves/abbot/monthly\n"
     ]
    }
   ],
   "source": [
    "for subdir, dirs, files in os.walk(rootdir):\n",
    "    for d in dirs:\n",
    "        path = os.path.join(subdir, d)\n",
    "        head_tail = os.path.split(path)\n",
    "        df = cropping_function(path,shapefile)\n",
    "        if head_tail[1] == 'seasonal' :\n",
    "            print(path)\n",
    "        elif head_tail[1] == 'yearly': \n",
    "            print(path)\n",
    "        elif head_tail[1] == 'monthly': \n",
    "            print(path)"
   ]
  },
  {
   "cell_type": "code",
   "execution_count": 75,
   "id": "383a8e63",
   "metadata": {},
   "outputs": [],
   "source": [
    "import pickle \n",
    "\n",
    "with open('monthly_shelves.pkl', 'wb') as f:\n",
    "    pickle.dump(monthly_shelves, f)"
   ]
  },
  {
   "cell_type": "code",
   "execution_count": 76,
   "id": "0962119d",
   "metadata": {},
   "outputs": [],
   "source": [
    "with open('yearly_shelves.pkl', 'wb') as f:\n",
    "    pickle.dump(yearly_shelves, f)"
   ]
  },
  {
   "cell_type": "code",
   "execution_count": 77,
   "id": "efa7b058",
   "metadata": {},
   "outputs": [],
   "source": [
    "with open('seasonal_shelves.pkl', 'wb') as f:\n",
    "    pickle.dump(seasonal_shelves, f)"
   ]
  },
  {
   "cell_type": "code",
   "execution_count": 185,
   "id": "81035fb7",
   "metadata": {},
   "outputs": [],
   "source": [
    "with open('reanalysis_monthly.pkl', 'wb') as f:\n",
    "    pickle.dump(reanalysis_monthly, f)"
   ]
  },
  {
   "cell_type": "code",
   "execution_count": 186,
   "id": "7bec668f",
   "metadata": {},
   "outputs": [],
   "source": [
    "with open('reanalysis_yearly.pkl', 'wb') as f:\n",
    "    pickle.dump(reanalysis_yearly, f)"
   ]
  },
  {
   "cell_type": "code",
   "execution_count": 187,
   "id": "438e8fd8",
   "metadata": {},
   "outputs": [],
   "source": [
    "with open('reanalysis_seasonal.pkl', 'wb') as f:\n",
    "    pickle.dump(reanalysis_seasonal, f)"
   ]
  },
  {
   "cell_type": "code",
   "execution_count": null,
   "id": "bbbb230d",
   "metadata": {},
   "outputs": [],
   "source": []
  },
  {
   "cell_type": "code",
   "execution_count": null,
   "id": "324b1e7b",
   "metadata": {},
   "outputs": [],
   "source": []
  },
  {
   "cell_type": "code",
   "execution_count": null,
   "id": "a329d1f6",
   "metadata": {},
   "outputs": [],
   "source": []
  }
 ],
 "metadata": {
  "kernelspec": {
   "display_name": "Python 3 (ipykernel)",
   "language": "python",
   "name": "python3"
  },
  "language_info": {
   "codemirror_mode": {
    "name": "ipython",
    "version": 3
   },
   "file_extension": ".py",
   "mimetype": "text/x-python",
   "name": "python",
   "nbconvert_exporter": "python",
   "pygments_lexer": "ipython3",
   "version": "3.10.6"
  }
 },
 "nbformat": 4,
 "nbformat_minor": 5
}
