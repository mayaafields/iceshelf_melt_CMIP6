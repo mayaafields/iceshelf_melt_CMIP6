{
 "cells": [
  {
   "cell_type": "code",
   "execution_count": 13,
   "metadata": {},
   "outputs": [],
   "source": [
    "#! /usr/bin/env python3\n",
    "\n",
    "# data libraries\n",
    "import sys\n",
    "import os\n",
    "import datetime as dt  # Python standard library datetime  module\n",
    "import numpy as np\n",
    "np.set_printoptions(threshold=sys.maxsize)\n",
    "from netCDF4 import Dataset,num2date  # http://code.google.com/p/netcdf4-python/\n",
    "import pandas as pd\n",
    "\n",
    "\n",
    "# plotting libraries\n",
    "import matplotlib.pyplot as plt\n",
    "from scipy.stats import linregress\n",
    "import matplotlib.style as style\n",
    "from matplotlib import cm\n",
    "import cartopy.crs as ccrs\n",
    "import cartopy.feature as cfeature\n",
    "from cartopy.util import add_cyclic_point \n",
    "import cartopy.mpl.ticker as cticker\n",
    "import glob\n",
    "\n",
    "np.set_printoptions(threshold=sys.maxsize)\n",
    "pd.options.display.max_rows = 4000"
   ]
  },
  {
   "cell_type": "markdown",
   "metadata": {},
   "source": [
    "## Defining functions for Analysis\n",
    "\n",
    "### iceshelf_stats(path,path2) = f1,model_names,ym,modeltemps,var_era5_spatial_avg,ym_era5,model_temps_cropped,shelf_name,gridsize\n",
    "\n",
    "#### Inputs\n",
    "- path: is the path for the CMIP6 model data for the iceshelf. This path contains the 32 models nc files cropped to the specific object. You can choose to apply the path for seasonal (Austral Summer- December, January, and February), yearly, or monthly model data for each shelf.\n",
    "- path2:is the path for the ERA5 reanalysis data over the iceshelf. You can choose to apply the path for seasonal (Austral Summer- December, January, and February), yearly, or monthly reanalysis data for each shelf.\n",
    "\n",
    "#### Outputs\n",
    "- f1: a line plot of all 32 CMIP6 model data overlayed with the mean of the CMIP6 model data and the ERA5 reanalysis data\n",
    "- model_names: a list of the CMIP6 models used in the analysis pulled from the file path name\n",
    "- ym: is an array of years and months from the model data\n",
    "- modeltemps: a list of each CMIP6 models temperature over the region across the years stored in ym\n",
    "- var_era5_spatial_avg: ERA5 list of temperature over the region across ERA5's timescale (years stored in ym_era5)\n",
    "- ym_era5: an array of years and months from the ERA5 data\n",
    "- model_temps_cropped: the model temps cropped to the timescale of the ERA5 data\n",
    "- shelf_name: name of shelf that you are analyzing for each dataset\n",
    "- gridsize: size of the area for the shelf you are averaging over.\n",
    "\n",
    "### bias_analysis(model_temps_cropped,era5_temps) = f2, df_sortted\n",
    "\n",
    "A function that takes in the temperature from both the models and the ERA5 data and produces a plot with a bias analysis and dataframe sorted by bias. \n",
    "\n",
    "#### Inputs\n",
    "- model_temps_cropped: the model temps cropped to the timescale of the ERA5 data\n",
    "- era5_temps: ERA5 list of temperature over the region across ERA5's timescale (years stored in ym_era5)\n",
    "\n",
    "#### Outputs\n",
    "- f2: bar plot of bias for each CMIP6 model and the mean of the models. This bias is calculated by subtracting the ERA5 temperatures from the model temperatures across the timescale. The bias for eachmodel is produced by taking the mean of that variation. The mean of the CMIP6 models is calculated by taking the mean of the temperature at each time step and then performing the variation as mentioned above. \n",
    "- df_sortted: the dataframe of the CMIP6 models and their overall bias assigned based off of the ERA5 data in a dataframe sortted based on bias from negative to positive bias. The smallest bias will be towards the middle of the dataframe. \n"
   ]
  },
  {
   "cell_type": "code",
   "execution_count": 14,
   "metadata": {},
   "outputs": [],
   "source": [
    "def iceshelf_stats(path,path2): \n",
    "    \n",
    "    # Lists of data pulled from paths\n",
    "    fpath = list() # The path to location in my raid directory\n",
    "    model_names = list() # The model name pulled from the file name of the data \n",
    "    modeltemps = list() # The temperature of the shelf for each year from model\n",
    "    mean_annual_avg_temp = list() #mean of annual temperature values over historical period\n",
    "    shelf_name = list()\n",
    "    \n",
    "    #List for bias analysis\n",
    "    model_temps_cropped = list()\n",
    "    \n",
    "    # Plotting all of the models on one figure\n",
    "    f1 = plt.figure(1,figsize=(15,12))\n",
    "    for path in glob.iglob(f'{path}/*.nc'): #iterating through files in path specified\n",
    "        \n",
    "        #Reading in Datafiles\n",
    "        fpath.append(path)\n",
    "        fname = path\n",
    "        datain = Dataset(fname, 'r')\n",
    "        \n",
    "        ##Splitting The Path to label the models\n",
    "        head_tail = os.path.split(path) #makes the path a variable\n",
    "        mystring = str(head_tail[1]) #turns the variable into a string\n",
    "        x = mystring.split(\".\", 5)#parsing the model name by periods\n",
    "        model_names.append(x[1]) # the second section of string is the model name\n",
    "        shelf_name.appned(x[4])\n",
    "        \n",
    "        #Creating Variables\n",
    "        var = datain.variables['tas'] #2meter surface temperture\n",
    "        gridsize = var[1].size\n",
    "        lat = datain.variables['latitude'][:] #latitude\n",
    "        lon = datain.variables['longitude'][:] #longitude\n",
    "        timevar = datain.variables['time'] #in days since 1850\n",
    "        dtime = num2date(timevar[:],timevar.units) # The next two lines make the time variable readable\n",
    "        ym = np.zeros((len(dtime),2), int)\n",
    "        \n",
    "        ##Spatial Average over sheet\n",
    "        var_spatial_avg = np.mean(var[:,:,:],axis = (1,2)) #Taking the spatial average of yearly temperature over the iceshelf\n",
    "        var_spatial_avg = var_spatial_avg - 273.15 #converting the temperature from Kelvin to Celsius\n",
    "        modeltemps.append(var_spatial_avg[0:249]) #appending the model temps to a list\n",
    "        model_temps_cropped.append(var_spatial_avg[110:173]) #appending the model temps to a list\n",
    "        \n",
    "        ##Time Component\n",
    "        for i in range(len(dtime)): #Creating an aray of years from the time variable\n",
    "            ym[i,0] = dtime[i].year\n",
    "            ym[i,1] = dtime[i].month\n",
    "            \n",
    "        #Plotting the Data\n",
    "        plt.figure(1)\n",
    "        plt.plot(ym[:,0],var_spatial_avg,linewidth=2.5,label = '_nolegend_', color= 'lightgray')\n",
    "        plt.xlabel(\"Time (Years)\", fontsize = 18)\n",
    "        plt.ylabel(r\"Austral Summer Surface Temperature ($\\degree$ C)\", fontsize = 18)\n",
    "        plt.xticks(fontsize=16)\n",
    "        plt.yticks(fontsize=16)\n",
    "        plt.xlim(1959,2100)\n",
    "        #plt.legend()\n",
    "    \n",
    "    #Plotting the ERA5 data on the same figure\n",
    "    fname_era5 = path2\n",
    "    datain_era5 = Dataset(fname_era5, 'r')\n",
    "\n",
    "\n",
    "    var_era5 = datain_era5.variables['t2m'] #2meter surface temperture\n",
    "    lat_era5 = datain_era5.variables['latitude'][:] #latitude\n",
    "    lon_era5 = datain_era5.variables['longitude'][:] #longitude\n",
    "    timevar_era5 = datain_era5.variables['time'] #in days since 1959\n",
    "    dtime_era5 = num2date(timevar_era5[:],timevar_era5.units) # The next two lines make the time variable readable\n",
    "    ym_era5 = np.zeros((len(dtime_era5),2), int)\n",
    "\n",
    "    var_era5_spatial_avg = np.mean(var_era5[:,:,:],axis = (1,2)) #Taking the spatial average of yearly temperature over the iceshelf\n",
    "    var_era5_spatial_avg = var_era5_spatial_avg - 273.15\n",
    "    \n",
    "    for i in range(len(dtime_era5)): #Creating an aray of years from the time variable\n",
    "        ym_era5[i,0] = dtime_era5[i].year\n",
    "    \n",
    "    plt.figure(1)\n",
    "    plt.plot(ym_era5[:,0],var_era5_spatial_avg,label = 'ERA5', color= 'blue')\n",
    "    \n",
    "    #Adding Mean Line to Plot\n",
    "    models_mean = np.mean(modeltemps,axis=0)\n",
    "    model_names.append('Model Mean')\n",
    "    model_temps_cropped.append(models_mean[110:173])\n",
    "    \n",
    "    #Calculating Regression Line\n",
    "    regress = linregress(ym[0:249,0], models_mean)\n",
    "    regression_line = ym[0:249,0]*regress[0] + regress[1]\n",
    "\n",
    "    plt.figure(1)\n",
    "    plt.plot(ym[0:249,0],models_mean,label = 'Model Mean', color= 'orange')\n",
    "    plt.legend()\n",
    "    plt.close()\n",
    "    \n",
    "    return f1,model_names,ym,modeltemps,var_era5_spatial_avg,ym_era5,model_temps_cropped,shelf_name,gridsize\n",
    "        \n",
    "    "
   ]
  },
  {
   "cell_type": "code",
   "execution_count": 15,
   "metadata": {},
   "outputs": [],
   "source": [
    "def bias_analysis(model_temps_cropped,era5_temps):\n",
    "    #Bias Analysis\n",
    "\n",
    "    variation = model_temps_cropped - era5_temps\n",
    "    mean_bias = np.mean(variation,axis=1)\n",
    "\n",
    "    #Making data frame for bias analysis\n",
    "    df = pd.DataFrame(list(zip(shelf_mn,mean_bias)),columns=['Model Names','Mean Bias'])\n",
    "\n",
    "    df_sortted = df.sort_values(\"Mean Bias\",ascending=False)\n",
    "\n",
    "    x = df_sortted['Model Names']\n",
    "    y = df_sortted['Mean Bias']\n",
    "\n",
    "    cmap = plt.cm.seismic\n",
    "    norm = cm.colors.TwoSlopeNorm(vcenter=0,vmin=np.min(y),vmax=np.max(y))\n",
    "\n",
    "    f2 = fig, ax = plt.subplots(figsize=(15,12))\n",
    "    bars = ax.barh(x,y,align='center',color=cmap(norm(y.values)))\n",
    "    ax.bar_label(bars,fmt = '%1.2f',padding=2,label_type='edge',fontsize=14)\n",
    "    ax.set_xlim(left=min(y)-1)\n",
    "    ax.set_xlabel(r\"Mean Seasonal Temperature Bias($\\degree$ C)\", fontsize = 18)\n",
    "    plt.xticks(fontsize=16)\n",
    "    plt.yticks(fontsize=16)\n",
    "    return f2, df_sortted\n",
    "\n"
   ]
  },
  {
   "cell_type": "markdown",
   "metadata": {},
   "source": [
    "## Creating Lists of file paths for the iceshelves and each CMIP6 model"
   ]
  },
  {
   "cell_type": "code",
   "execution_count": 16,
   "metadata": {},
   "outputs": [],
   "source": [
    "rootdir = '/raid01/mafields/tas/MODELS_filtered/ssp585/iceshelves/'\n",
    "\n",
    "fpath_seasonal_shelves = list() # The path to location in my raid directory\n",
    "fpath_yearly_shelves = list()\n",
    "fpath_monthly_shelves = list()\n",
    "\n",
    "fpath_reanalysis_seasonal_shelves = list() # The path to location in my raid directory\n",
    "fpath_reanalysis_yearly_shelves = list()\n",
    "fpath_reanalysis_monthly_shelves = list()\n",
    "\n",
    "for subdir, dirs, files in os.walk(rootdir):\n",
    "    for d in dirs:\n",
    "        #os.path.join(subdir, d)\n",
    "        path = os.path.join(subdir, d)\n",
    "        head_tail = os.path.split(path)\n",
    "        if head_tail[1] == 'seasonal' : \n",
    "            fpath_seasonal_shelves.append(path)\n",
    "        elif head_tail[1] == 'yearly': \n",
    "            fpath_yearly_shelves.append(path)\n",
    "        elif head_tail[1] == 'monthly': \n",
    "            fpath_monthly_shelves.append(path)"
   ]
  },
  {
   "cell_type": "code",
   "execution_count": 17,
   "metadata": {},
   "outputs": [],
   "source": [
    "rootdir2 = '/raid01/mafields/tas/MODELS_filtered/ssp585/iceshelves/reanalysis/seasavg'\n",
    "\n",
    "fpath_seasonal_shelves_reanalysis = list() # The path to location in my raid directory\n",
    "for subdir, dirs, files in os.walk(rootdir2):\n",
    "    for file in files:\n",
    "        path2 = os.path.join(subdir, file)\n",
    "        head_tail2 = os.path.split(path2)\n",
    "        fpath_seasonal_shelves_reanalysis.append(path2)\n"
   ]
  },
  {
   "cell_type": "markdown",
   "metadata": {},
   "source": [
    "## Creating List of Reanalysis file paths for monthly, yearly and seasonal data filtered for each ice shelf\n"
   ]
  },
  {
   "cell_type": "code",
   "execution_count": 18,
   "metadata": {},
   "outputs": [],
   "source": [
    "rootdir3 = '/raid01/mafields/tas/MODELS_filtered/ssp585/iceshelves/reanalysis/yearavg'\n",
    "\n",
    "fpath_yearly_shelves_reanalysis = list() # The path to location in my raid directory\n",
    "for subdir, dirs, files in os.walk(rootdir3):\n",
    "    for file in files:\n",
    "        path3 = os.path.join(subdir, file)\n",
    "        head_tail2 = os.path.split(path3)\n",
    "        fpath_yearly_shelves_reanalysis.append(path3)\n"
   ]
  },
  {
   "cell_type": "code",
   "execution_count": 19,
   "metadata": {},
   "outputs": [],
   "source": [
    "rootdir4 = '/raid01/mafields/tas/MODELS_filtered/ssp585/iceshelves/reanalysis/monthly'\n",
    "\n",
    "fpath_monthly_shelves_reanalysis = list() # The path to location in my raid directory\n",
    "for subdir, dirs, files in os.walk(rootdir4):\n",
    "    for file in files:\n",
    "        path4 = os.path.join(subdir, file)\n",
    "        head_tail2 = os.path.split(path4)\n",
    "        fpath_monthly_shelves_reanalysis.append(path4)"
   ]
  },
  {
   "cell_type": "markdown",
   "metadata": {},
   "source": [
    "## Creating Dataframes of alphabetically sorted paths by iceshelf"
   ]
  },
  {
   "cell_type": "code",
   "execution_count": 28,
   "metadata": {},
   "outputs": [],
   "source": [
    "#seasonal reanalysis dataframe with alphebatized shelf paths\n",
    "reanalysis_seasonal = pd.DataFrame(list(zip(fpath_seasonal_shelves_reanalysis)),columns=['Shelf Path'])\n",
    "reanalysis_seasonal_sorted = reanalysis_seasonal.sort_values(\"Shelf Path\")"
   ]
  },
  {
   "cell_type": "code",
   "execution_count": 27,
   "metadata": {},
   "outputs": [],
   "source": [
    "#seasonal reanalysis dataframe with alphebatized shelf paths\n",
    "reanalysis_yearly = pd.DataFrame(list(zip(fpath_yearly_shelves_reanalysis)),columns=['Shelf Path'])\n",
    "reanalysis_yearly_sorted = reanalysis_yearly.sort_values(\"Shelf Path\")"
   ]
  },
  {
   "cell_type": "code",
   "execution_count": 22,
   "metadata": {},
   "outputs": [],
   "source": [
    "#seasonal reanalysis dataframe with alphebatized shelf paths\n",
    "reanalysis_monthly = pd.DataFrame(list(zip(fpath_monthly_shelves_reanalysis)),columns=['Shelf Path'])\n",
    "reanalysis_monthly_sorted = reanalysis_monthly.sort_values('Shelf Path')"
   ]
  },
  {
   "cell_type": "code",
   "execution_count": 23,
   "metadata": {},
   "outputs": [
    {
     "name": "stdout",
     "output_type": "stream",
     "text": [
      "/raid01/mafields/tas/MODELS_filtered/ssp585/iceshelves/atka/seasonal\n",
      "/raid01/mafields/tas/MODELS_filtered/ssp585/iceshelves/atka/yearly\n",
      "[['/raid01/mafields/tas/MODELS_filtered/ssp585/iceshelves/abbot/monthly'], ['/raid01/mafields/tas/MODELS_filtered/ssp585/iceshelves/amery/monthly'], ['/raid01/mafields/tas/MODELS_filtered/ssp585/iceshelves/atka/monthly'], ['/raid01/mafields/tas/MODELS_filtered/ssp585/iceshelves/bach/monthly'], ['/raid01/mafields/tas/MODELS_filtered/ssp585/iceshelves/baudouin/monthly'], ['/raid01/mafields/tas/MODELS_filtered/ssp585/iceshelves/borchgrevink/monthly'], ['/raid01/mafields/tas/MODELS_filtered/ssp585/iceshelves/bruntStancomb/monthly'], ['/raid01/mafields/tas/MODELS_filtered/ssp585/iceshelves/congerGlenzer/monthly'], ['/raid01/mafields/tas/MODELS_filtered/ssp585/iceshelves/cook/monthly'], ['/raid01/mafields/tas/MODELS_filtered/ssp585/iceshelves/cosgrove/monthly'], ['/raid01/mafields/tas/MODELS_filtered/ssp585/iceshelves/crosson/monthly'], ['/raid01/mafields/tas/MODELS_filtered/ssp585/iceshelves/dotson/monthly'], ['/raid01/mafields/tas/MODELS_filtered/ssp585/iceshelves/drygalski/monthly'], ['/raid01/mafields/tas/MODELS_filtered/ssp585/iceshelves/ekstrom/monthly'], ['/raid01/mafields/tas/MODELS_filtered/ssp585/iceshelves/filchner/monthly'], ['/raid01/mafields/tas/MODELS_filtered/ssp585/iceshelves/fimbul/monthly'], ['/raid01/mafields/tas/MODELS_filtered/ssp585/iceshelves/georgeVI/monthly'], ['/raid01/mafields/tas/MODELS_filtered/ssp585/iceshelves/getz/monthly'], ['/raid01/mafields/tas/MODELS_filtered/ssp585/iceshelves/holmes/monthly'], ['/raid01/mafields/tas/MODELS_filtered/ssp585/iceshelves/jelbart/monthly'], ['/raid01/mafields/tas/MODELS_filtered/ssp585/iceshelves/land/monthly'], ['/raid01/mafields/tas/MODELS_filtered/ssp585/iceshelves/larsenB/monthly'], ['/raid01/mafields/tas/MODELS_filtered/ssp585/iceshelves/larsenC/monthly'], ['/raid01/mafields/tas/MODELS_filtered/ssp585/iceshelves/larsenD/monthly'], ['/raid01/mafields/tas/MODELS_filtered/ssp585/iceshelves/lazarev/monthly'], ['/raid01/mafields/tas/MODELS_filtered/ssp585/iceshelves/mariner/monthly'], ['/raid01/mafields/tas/MODELS_filtered/ssp585/iceshelves/mertz/monthly'], ['/raid01/mafields/tas/MODELS_filtered/ssp585/iceshelves/moscowUniversity/monthly'], ['/raid01/mafields/tas/MODELS_filtered/ssp585/iceshelves/nansen/monthly'], ['/raid01/mafields/tas/MODELS_filtered/ssp585/iceshelves/nickerson/monthly'], ['/raid01/mafields/tas/MODELS_filtered/ssp585/iceshelves/nivl/monthly'], ['/raid01/mafields/tas/MODELS_filtered/ssp585/iceshelves/pineIsland/monthly'], ['/raid01/mafields/tas/MODELS_filtered/ssp585/iceshelves/princeHarald/monthly'], ['/raid01/mafields/tas/MODELS_filtered/ssp585/iceshelves/quar/monthly'], ['/raid01/mafields/tas/MODELS_filtered/ssp585/iceshelves/reanalysis/monthly'], ['/raid01/mafields/tas/MODELS_filtered/ssp585/iceshelves/rennick/monthly'], ['/raid01/mafields/tas/MODELS_filtered/ssp585/iceshelves/riiserLarsen/monthly'], ['/raid01/mafields/tas/MODELS_filtered/ssp585/iceshelves/ronne/monthly'], ['/raid01/mafields/tas/MODELS_filtered/ssp585/iceshelves/ross/monthly'], ['/raid01/mafields/tas/MODELS_filtered/ssp585/iceshelves/shackleton/monthly'], ['/raid01/mafields/tas/MODELS_filtered/ssp585/iceshelves/stange/monthly'], ['/raid01/mafields/tas/MODELS_filtered/ssp585/iceshelves/sulzberger/monthly'], ['/raid01/mafields/tas/MODELS_filtered/ssp585/iceshelves/thwaites/monthly'], ['/raid01/mafields/tas/MODELS_filtered/ssp585/iceshelves/totten/monthly'], ['/raid01/mafields/tas/MODELS_filtered/ssp585/iceshelves/tucker/monthly'], ['/raid01/mafields/tas/MODELS_filtered/ssp585/iceshelves/venable/monthly'], ['/raid01/mafields/tas/MODELS_filtered/ssp585/iceshelves/vigrid/monthly'], ['/raid01/mafields/tas/MODELS_filtered/ssp585/iceshelves/west/monthly'], ['/raid01/mafields/tas/MODELS_filtered/ssp585/iceshelves/wilkins/monthly'], ['/raid01/mafields/tas/MODELS_filtered/ssp585/iceshelves/withrow/monthly']]\n"
     ]
    }
   ],
   "source": [
    "#seasonal model dataframe with alphebatized shelf paths\n",
    "seasonal = pd.DataFrame(list(zip(fpath_seasonal_shelves)),columns=['Shelf Path'])\n",
    "seasonal_sortted = seasonal.sort_values(\"Shelf Path\")\n",
    "print(seasonal_sortted['Shelf Path'][2])\n",
    "\n",
    "#yearly model dataframe with alphebatized shelf paths\n",
    "yearly = pd.DataFrame(list(zip(fpath_yearly_shelves)),columns=['Shelf Path'])\n",
    "yearly_sortted = yearly.sort_values(\"Shelf Path\")\n",
    "print(yearly_sortted['Shelf Path'][2])\n",
    "\n",
    "monthly = pd.DataFrame(list(zip(fpath_monthly_shelves)),columns=['Shelf Path'])\n",
    "monthly_sortted = monthly.sort_values(\"Shelf Path\")\n",
    "print(monthly_sortted.values.tolist())\n"
   ]
  },
  {
   "cell_type": "markdown",
   "metadata": {},
   "source": [
    "### Creating the model plots using iceshelf_stats\n",
    "\n",
    "#### Monthly"
   ]
  },
  {
   "cell_type": "code",
   "execution_count": 29,
   "metadata": {},
   "outputs": [
    {
     "name": "stdout",
     "output_type": "stream",
     "text": [
      "['/raid01/mafields/tas/MODELS_filtered/ssp585/iceshelves/abbot/yearly'] ['/raid01/mafields/tas/MODELS_filtered/ssp585/iceshelves/reanalysis/yearavg/R1.ERA5.yearavg.abbot.nc']\n"
     ]
    },
    {
     "ename": "FileNotFoundError",
     "evalue": "[Errno 2] No such file or directory: b\"['/raid01/mafields/tas/MODELS_filtered/ssp585/iceshelves/reanalysis/yearavg/R1.ERA5.yearavg.abbot.nc']\"",
     "output_type": "error",
     "traceback": [
      "\u001b[0;31m---------------------------------------------------------------------------\u001b[0m",
      "\u001b[0;31mFileNotFoundError\u001b[0m                         Traceback (most recent call last)",
      "\u001b[0;32m<ipython-input-29-08b1e0229be2>\u001b[0m in \u001b[0;36m<module>\u001b[0;34m\u001b[0m\n\u001b[1;32m     11\u001b[0m \u001b[0;32mfor\u001b[0m \u001b[0mpath\u001b[0m\u001b[0;34m,\u001b[0m \u001b[0mpath2\u001b[0m \u001b[0;32min\u001b[0m \u001b[0mzip\u001b[0m\u001b[0;34m(\u001b[0m\u001b[0myearly_sortted\u001b[0m\u001b[0;34m.\u001b[0m\u001b[0mvalues\u001b[0m\u001b[0;34m.\u001b[0m\u001b[0mtolist\u001b[0m\u001b[0;34m(\u001b[0m\u001b[0;34m)\u001b[0m\u001b[0;34m,\u001b[0m \u001b[0mreanalysis_yearly_sorted\u001b[0m\u001b[0;34m.\u001b[0m\u001b[0mvalues\u001b[0m\u001b[0;34m.\u001b[0m\u001b[0mtolist\u001b[0m\u001b[0;34m(\u001b[0m\u001b[0;34m)\u001b[0m\u001b[0;34m)\u001b[0m\u001b[0;34m:\u001b[0m\u001b[0;34m\u001b[0m\u001b[0;34m\u001b[0m\u001b[0m\n\u001b[1;32m     12\u001b[0m     \u001b[0mprint\u001b[0m\u001b[0;34m(\u001b[0m\u001b[0mpath\u001b[0m\u001b[0;34m,\u001b[0m\u001b[0mpath2\u001b[0m\u001b[0;34m)\u001b[0m\u001b[0;34m\u001b[0m\u001b[0;34m\u001b[0m\u001b[0m\n\u001b[0;32m---> 13\u001b[0;31m     \u001b[0mshelf_var_yearly\u001b[0m\u001b[0;34m,\u001b[0m\u001b[0mshelf_mn\u001b[0m\u001b[0;34m,\u001b[0m\u001b[0mshelf_time\u001b[0m\u001b[0;34m,\u001b[0m\u001b[0mtemps\u001b[0m\u001b[0;34m,\u001b[0m\u001b[0mera5_temps\u001b[0m\u001b[0;34m,\u001b[0m\u001b[0mera5_time\u001b[0m\u001b[0;34m,\u001b[0m\u001b[0mmodel_temps_cropped2era5_time\u001b[0m\u001b[0;34m,\u001b[0m\u001b[0mshelf_name\u001b[0m\u001b[0;34m,\u001b[0m\u001b[0mshelf_gridsize\u001b[0m \u001b[0;34m=\u001b[0m \u001b[0miceshelf_stats\u001b[0m\u001b[0;34m(\u001b[0m\u001b[0mpath\u001b[0m\u001b[0;34m,\u001b[0m\u001b[0mpath2\u001b[0m\u001b[0;34m)\u001b[0m\u001b[0;34m\u001b[0m\u001b[0;34m\u001b[0m\u001b[0m\n\u001b[0m\u001b[1;32m     14\u001b[0m     \u001b[0mmodel_names\u001b[0m\u001b[0;34m.\u001b[0m\u001b[0mappend\u001b[0m\u001b[0;34m(\u001b[0m\u001b[0mshelf_mn\u001b[0m\u001b[0;34m)\u001b[0m\u001b[0;34m\u001b[0m\u001b[0;34m\u001b[0m\u001b[0m\n\u001b[1;32m     15\u001b[0m     \u001b[0mshelf_timescale\u001b[0m\u001b[0;34m.\u001b[0m\u001b[0mappend\u001b[0m\u001b[0;34m(\u001b[0m\u001b[0mshelf_time\u001b[0m\u001b[0;34m)\u001b[0m\u001b[0;34m\u001b[0m\u001b[0;34m\u001b[0m\u001b[0m\n",
      "\u001b[0;32m<ipython-input-14-8df4ae8e5d4d>\u001b[0m in \u001b[0;36miceshelf_stats\u001b[0;34m(path, path2)\u001b[0m\n\u001b[1;32m     59\u001b[0m     \u001b[0;31m#Plotting the ERA5 data on the same figure\u001b[0m\u001b[0;34m\u001b[0m\u001b[0;34m\u001b[0m\u001b[0;34m\u001b[0m\u001b[0m\n\u001b[1;32m     60\u001b[0m     \u001b[0mfname_era5\u001b[0m \u001b[0;34m=\u001b[0m \u001b[0mpath2\u001b[0m\u001b[0;34m\u001b[0m\u001b[0;34m\u001b[0m\u001b[0m\n\u001b[0;32m---> 61\u001b[0;31m     \u001b[0mdatain_era5\u001b[0m \u001b[0;34m=\u001b[0m \u001b[0mDataset\u001b[0m\u001b[0;34m(\u001b[0m\u001b[0mfname_era5\u001b[0m\u001b[0;34m,\u001b[0m \u001b[0;34m'r'\u001b[0m\u001b[0;34m)\u001b[0m\u001b[0;34m\u001b[0m\u001b[0;34m\u001b[0m\u001b[0m\n\u001b[0m\u001b[1;32m     62\u001b[0m \u001b[0;34m\u001b[0m\u001b[0m\n\u001b[1;32m     63\u001b[0m \u001b[0;34m\u001b[0m\u001b[0m\n",
      "\u001b[0;32mnetCDF4/_netCDF4.pyx\u001b[0m in \u001b[0;36mnetCDF4._netCDF4.Dataset.__init__\u001b[0;34m()\u001b[0m\n",
      "\u001b[0;32mnetCDF4/_netCDF4.pyx\u001b[0m in \u001b[0;36mnetCDF4._netCDF4._ensure_nc_success\u001b[0;34m()\u001b[0m\n",
      "\u001b[0;31mFileNotFoundError\u001b[0m: [Errno 2] No such file or directory: b\"['/raid01/mafields/tas/MODELS_filtered/ssp585/iceshelves/reanalysis/yearavg/R1.ERA5.yearavg.abbot.nc']\""
     ]
    },
    {
     "data": {
      "text/plain": [
       "<Figure size 1080x864 with 0 Axes>"
      ]
     },
     "metadata": {},
     "output_type": "display_data"
    }
   ],
   "source": [
    "### Creating List: \n",
    "shelf_model_names = list()\n",
    "shelf_timescale = list()\n",
    "shelf_model_temps = list()\n",
    "shelf_era5_temps = list()\n",
    "shelf_era5_timescale = list()\n",
    "shelf_model_temps_over_era5_tiemscale = list()\n",
    "shelf_names = list()\n",
    "shelf_total_gridsize = list()\n",
    "\n",
    "for path, path2 in zip(yearly_sortted.values.tolist(), reanalysis_yearly_sorted.values.tolist()):\n",
    "    print(path,path2)\n",
    "    shelf_var_yearly,shelf_mn,shelf_time,temps,era5_temps,era5_time,model_temps_cropped2era5_time,shelf_name,shelf_gridsize = iceshelf_stats(path,path2)\n",
    "    model_names.append(shelf_mn)\n",
    "    shelf_timescale.append(shelf_time)\n",
    "    shelf_model_temps.append(temps)\n",
    "    shelf_era5_temps.append(era5_temps)\n",
    "    shelf_era5_timescale.append(era5_time)\n",
    "    shelf_model_temps_over_era5_tiemscale.append(model_temps_cropped2era5_time)\n",
    "    shelf_names.append(shelf_name)\n",
    "    shelf_total_gridsize.append(shelf_gridsize)\n",
    "    print('added!')\n",
    "    \n",
    "    "
   ]
  },
  {
   "cell_type": "code",
   "execution_count": 25,
   "metadata": {},
   "outputs": [
    {
     "data": {
      "text/plain": [
       "[['/raid01/mafields/tas/MODELS_filtered/ssp585/iceshelves/reanalysis/monthly/ERA5_reanalysis.abbot.nc'],\n",
       " ['/raid01/mafields/tas/MODELS_filtered/ssp585/iceshelves/reanalysis/monthly/ERA5_reanalysis.amery.nc'],\n",
       " ['/raid01/mafields/tas/MODELS_filtered/ssp585/iceshelves/reanalysis/monthly/ERA5_reanalysis.atka.nc'],\n",
       " ['/raid01/mafields/tas/MODELS_filtered/ssp585/iceshelves/reanalysis/monthly/ERA5_reanalysis.bach.nc'],\n",
       " ['/raid01/mafields/tas/MODELS_filtered/ssp585/iceshelves/reanalysis/monthly/ERA5_reanalysis.baudouin.nc'],\n",
       " ['/raid01/mafields/tas/MODELS_filtered/ssp585/iceshelves/reanalysis/monthly/ERA5_reanalysis.borchgrevink.nc'],\n",
       " ['/raid01/mafields/tas/MODELS_filtered/ssp585/iceshelves/reanalysis/monthly/ERA5_reanalysis.bruntStancomb.nc'],\n",
       " ['/raid01/mafields/tas/MODELS_filtered/ssp585/iceshelves/reanalysis/monthly/ERA5_reanalysis.congerGlenzer.nc'],\n",
       " ['/raid01/mafields/tas/MODELS_filtered/ssp585/iceshelves/reanalysis/monthly/ERA5_reanalysis.cook.nc'],\n",
       " ['/raid01/mafields/tas/MODELS_filtered/ssp585/iceshelves/reanalysis/monthly/ERA5_reanalysis.cosgrove.nc'],\n",
       " ['/raid01/mafields/tas/MODELS_filtered/ssp585/iceshelves/reanalysis/monthly/ERA5_reanalysis.crosson.nc'],\n",
       " ['/raid01/mafields/tas/MODELS_filtered/ssp585/iceshelves/reanalysis/monthly/ERA5_reanalysis.dotson.nc'],\n",
       " ['/raid01/mafields/tas/MODELS_filtered/ssp585/iceshelves/reanalysis/monthly/ERA5_reanalysis.drygalski.nc'],\n",
       " ['/raid01/mafields/tas/MODELS_filtered/ssp585/iceshelves/reanalysis/monthly/ERA5_reanalysis.ekstrom.nc'],\n",
       " ['/raid01/mafields/tas/MODELS_filtered/ssp585/iceshelves/reanalysis/monthly/ERA5_reanalysis.filchner.nc'],\n",
       " ['/raid01/mafields/tas/MODELS_filtered/ssp585/iceshelves/reanalysis/monthly/ERA5_reanalysis.fimbul.nc'],\n",
       " ['/raid01/mafields/tas/MODELS_filtered/ssp585/iceshelves/reanalysis/monthly/ERA5_reanalysis.georgeVI.nc'],\n",
       " ['/raid01/mafields/tas/MODELS_filtered/ssp585/iceshelves/reanalysis/monthly/ERA5_reanalysis.getz.nc'],\n",
       " ['/raid01/mafields/tas/MODELS_filtered/ssp585/iceshelves/reanalysis/monthly/ERA5_reanalysis.holmes.nc'],\n",
       " ['/raid01/mafields/tas/MODELS_filtered/ssp585/iceshelves/reanalysis/monthly/ERA5_reanalysis.jelbart.nc'],\n",
       " ['/raid01/mafields/tas/MODELS_filtered/ssp585/iceshelves/reanalysis/monthly/ERA5_reanalysis.land.nc'],\n",
       " ['/raid01/mafields/tas/MODELS_filtered/ssp585/iceshelves/reanalysis/monthly/ERA5_reanalysis.larsenB.nc'],\n",
       " ['/raid01/mafields/tas/MODELS_filtered/ssp585/iceshelves/reanalysis/monthly/ERA5_reanalysis.larsenC.nc'],\n",
       " ['/raid01/mafields/tas/MODELS_filtered/ssp585/iceshelves/reanalysis/monthly/ERA5_reanalysis.larsenD.nc'],\n",
       " ['/raid01/mafields/tas/MODELS_filtered/ssp585/iceshelves/reanalysis/monthly/ERA5_reanalysis.lazarev.nc'],\n",
       " ['/raid01/mafields/tas/MODELS_filtered/ssp585/iceshelves/reanalysis/monthly/ERA5_reanalysis.mariner.nc'],\n",
       " ['/raid01/mafields/tas/MODELS_filtered/ssp585/iceshelves/reanalysis/monthly/ERA5_reanalysis.mertz.nc'],\n",
       " ['/raid01/mafields/tas/MODELS_filtered/ssp585/iceshelves/reanalysis/monthly/ERA5_reanalysis.moscowU.nc'],\n",
       " ['/raid01/mafields/tas/MODELS_filtered/ssp585/iceshelves/reanalysis/monthly/ERA5_reanalysis.nansen.nc'],\n",
       " ['/raid01/mafields/tas/MODELS_filtered/ssp585/iceshelves/reanalysis/monthly/ERA5_reanalysis.nickerson.nc'],\n",
       " ['/raid01/mafields/tas/MODELS_filtered/ssp585/iceshelves/reanalysis/monthly/ERA5_reanalysis.nivl.nc'],\n",
       " ['/raid01/mafields/tas/MODELS_filtered/ssp585/iceshelves/reanalysis/monthly/ERA5_reanalysis.pineIsland.nc'],\n",
       " ['/raid01/mafields/tas/MODELS_filtered/ssp585/iceshelves/reanalysis/monthly/ERA5_reanalysis.princeH.nc'],\n",
       " ['/raid01/mafields/tas/MODELS_filtered/ssp585/iceshelves/reanalysis/monthly/ERA5_reanalysis.quar.nc'],\n",
       " ['/raid01/mafields/tas/MODELS_filtered/ssp585/iceshelves/reanalysis/monthly/ERA5_reanalysis.rennick.nc'],\n",
       " ['/raid01/mafields/tas/MODELS_filtered/ssp585/iceshelves/reanalysis/monthly/ERA5_reanalysis.riiser.nc'],\n",
       " ['/raid01/mafields/tas/MODELS_filtered/ssp585/iceshelves/reanalysis/monthly/ERA5_reanalysis.ronne.nc'],\n",
       " ['/raid01/mafields/tas/MODELS_filtered/ssp585/iceshelves/reanalysis/monthly/ERA5_reanalysis.ross.nc'],\n",
       " ['/raid01/mafields/tas/MODELS_filtered/ssp585/iceshelves/reanalysis/monthly/ERA5_reanalysis.shackleton.nc'],\n",
       " ['/raid01/mafields/tas/MODELS_filtered/ssp585/iceshelves/reanalysis/monthly/ERA5_reanalysis.stange.nc'],\n",
       " ['/raid01/mafields/tas/MODELS_filtered/ssp585/iceshelves/reanalysis/monthly/ERA5_reanalysis.sulzberger.nc'],\n",
       " ['/raid01/mafields/tas/MODELS_filtered/ssp585/iceshelves/reanalysis/monthly/ERA5_reanalysis.thwaites.nc'],\n",
       " ['/raid01/mafields/tas/MODELS_filtered/ssp585/iceshelves/reanalysis/monthly/ERA5_reanalysis.totten.nc'],\n",
       " ['/raid01/mafields/tas/MODELS_filtered/ssp585/iceshelves/reanalysis/monthly/ERA5_reanalysis.tucker.nc'],\n",
       " ['/raid01/mafields/tas/MODELS_filtered/ssp585/iceshelves/reanalysis/monthly/ERA5_reanalysis.venable.nc'],\n",
       " ['/raid01/mafields/tas/MODELS_filtered/ssp585/iceshelves/reanalysis/monthly/ERA5_reanalysis.vigrid.nc'],\n",
       " ['/raid01/mafields/tas/MODELS_filtered/ssp585/iceshelves/reanalysis/monthly/ERA5_reanalysis.west.nc'],\n",
       " ['/raid01/mafields/tas/MODELS_filtered/ssp585/iceshelves/reanalysis/monthly/ERA5_reanalysis.wilkins.nc'],\n",
       " ['/raid01/mafields/tas/MODELS_filtered/ssp585/iceshelves/reanalysis/monthly/ERA5_reanalysis.withrow.nc']]"
      ]
     },
     "execution_count": 25,
     "metadata": {},
     "output_type": "execute_result"
    }
   ],
   "source": [
    "reanalysis_monthly_sorted.values.tolist()"
   ]
  },
  {
   "cell_type": "code",
   "execution_count": null,
   "metadata": {},
   "outputs": [],
   "source": []
  }
 ],
 "metadata": {
  "kernelspec": {
   "display_name": "Python 3 (ipykernel)",
   "language": "python",
   "name": "python3"
  },
  "language_info": {
   "codemirror_mode": {
    "name": "ipython",
    "version": 3
   },
   "file_extension": ".py",
   "mimetype": "text/x-python",
   "name": "python",
   "nbconvert_exporter": "python",
   "pygments_lexer": "ipython3",
   "version": "3.10.6"
  }
 },
 "nbformat": 4,
 "nbformat_minor": 2
}
